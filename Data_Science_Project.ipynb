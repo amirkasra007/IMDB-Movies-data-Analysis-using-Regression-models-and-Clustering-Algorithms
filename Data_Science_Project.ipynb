{
  "nbformat": 4,
  "nbformat_minor": 0,
  "metadata": {
    "colab": {
      "name": "Copy of Data Science Project.ipynb",
      "provenance": [],
      "collapsed_sections": [
        "mHKN2o3c6tWi",
        "HC4Z9D5AYZ7q",
        "BQjUIyAedKY8"
      ]
    },
    "kernelspec": {
      "name": "python3",
      "display_name": "Python 3"
    },
    "language_info": {
      "name": "python"
    }
  },
  "cells": [
    {
      "cell_type": "markdown",
      "metadata": {
        "id": "iLL4j6f6vCb4"
      },
      "source": [
        "<span style='color:blue'> \n",
        "#Introduction </span>"
      ]
    },
    {
      "cell_type": "markdown",
      "metadata": {
        "id": "9IFwCmKVkfsS"
      },
      "source": [
        "###Objective\n",
        "##### The objective of this project is to build a model to predict the Revenue of a movie based on its Average Rating, Number of Votes, Metascore and Runtime. Moreover, we want to cluster these moveis into several classes in order to extract insights and find logical relations between the features.\n",
        "\n",
        "#####Some trends and insights that can be useful are: to see which kind of movies have higher Revenue according to the IMDB Ratings or even to see longer movies have better rating or shoeter according to the clusters and etc. This can be important for viewers to choose which types of movie to watch if the duration matters for them or even in financial and benefit issues for the filmmakers."
      ]
    },
    {
      "cell_type": "markdown",
      "metadata": {
        "id": "3g7N1aQkvCpL"
      },
      "source": [
        "###Dataset \n",
        "#####(link in reference)\n",
        "##### The dataset is consisted of 1,000 most popular movies on IMDB in the last 10 years. The data points included are: Title, Genre, Description, Director, Actors, Year, Runtime, Rating, Votes, Revenue, Metascrore. However, based on some analysis and statistics reasons we exclude some of the features like actors or directors and only include Rating, Votes, Metascore, Revenue, Genre and Runtime."
      ]
    },
    {
      "cell_type": "markdown",
      "metadata": {
        "id": "PkItAmb1O98y"
      },
      "source": [
        "#Preprocessing\n",
        "#####At first we import the necessary libraries for this project and the dataset, then move on to the preprocessing phase."
      ]
    },
    {
      "cell_type": "code",
      "metadata": {
        "id": "PB2jgIDOvDDk"
      },
      "source": [
        "import numpy as np\n",
        "import matplotlib.pyplot as plt\n",
        "import pandas as pd"
      ],
      "execution_count": null,
      "outputs": []
    },
    {
      "cell_type": "code",
      "metadata": {
        "id": "5470EpyUaiUN"
      },
      "source": [
        "dataset = pd.read_csv('IMDB-Movie-Data.csv')"
      ],
      "execution_count": null,
      "outputs": []
    },
    {
      "cell_type": "code",
      "metadata": {
        "colab": {
          "base_uri": "https://localhost:8080/",
          "height": 1000
        },
        "id": "xOheskMQCvNq",
        "outputId": "d4fe328b-ae05-4fe8-ed07-cb5762481764"
      },
      "source": [
        "dataset"
      ],
      "execution_count": null,
      "outputs": [
        {
          "output_type": "execute_result",
          "data": {
            "text/html": [
              "<div>\n",
              "<style scoped>\n",
              "    .dataframe tbody tr th:only-of-type {\n",
              "        vertical-align: middle;\n",
              "    }\n",
              "\n",
              "    .dataframe tbody tr th {\n",
              "        vertical-align: top;\n",
              "    }\n",
              "\n",
              "    .dataframe thead th {\n",
              "        text-align: right;\n",
              "    }\n",
              "</style>\n",
              "<table border=\"1\" class=\"dataframe\">\n",
              "  <thead>\n",
              "    <tr style=\"text-align: right;\">\n",
              "      <th></th>\n",
              "      <th>Rank</th>\n",
              "      <th>Title</th>\n",
              "      <th>Genre</th>\n",
              "      <th>Description</th>\n",
              "      <th>Director</th>\n",
              "      <th>Actors</th>\n",
              "      <th>Year</th>\n",
              "      <th>Runtime (Minutes)</th>\n",
              "      <th>Rating</th>\n",
              "      <th>Votes</th>\n",
              "      <th>Revenue (Millions)</th>\n",
              "      <th>Metascore</th>\n",
              "    </tr>\n",
              "  </thead>\n",
              "  <tbody>\n",
              "    <tr>\n",
              "      <th>0</th>\n",
              "      <td>1</td>\n",
              "      <td>Guardians of the Galaxy</td>\n",
              "      <td>Action,Adventure,Sci-Fi</td>\n",
              "      <td>A group of intergalactic criminals are forced ...</td>\n",
              "      <td>James Gunn</td>\n",
              "      <td>Chris Pratt, Vin Diesel, Bradley Cooper, Zoe S...</td>\n",
              "      <td>2014</td>\n",
              "      <td>121</td>\n",
              "      <td>8.1</td>\n",
              "      <td>757074</td>\n",
              "      <td>333.13</td>\n",
              "      <td>76.0</td>\n",
              "    </tr>\n",
              "    <tr>\n",
              "      <th>1</th>\n",
              "      <td>2</td>\n",
              "      <td>Prometheus</td>\n",
              "      <td>Adventure,Mystery,Sci-Fi</td>\n",
              "      <td>Following clues to the origin of mankind, a te...</td>\n",
              "      <td>Ridley Scott</td>\n",
              "      <td>Noomi Rapace, Logan Marshall-Green, Michael Fa...</td>\n",
              "      <td>2012</td>\n",
              "      <td>124</td>\n",
              "      <td>7.0</td>\n",
              "      <td>485820</td>\n",
              "      <td>126.46</td>\n",
              "      <td>65.0</td>\n",
              "    </tr>\n",
              "    <tr>\n",
              "      <th>2</th>\n",
              "      <td>3</td>\n",
              "      <td>Split</td>\n",
              "      <td>Horror,Thriller</td>\n",
              "      <td>Three girls are kidnapped by a man with a diag...</td>\n",
              "      <td>M. Night Shyamalan</td>\n",
              "      <td>James McAvoy, Anya Taylor-Joy, Haley Lu Richar...</td>\n",
              "      <td>2016</td>\n",
              "      <td>117</td>\n",
              "      <td>7.3</td>\n",
              "      <td>157606</td>\n",
              "      <td>138.12</td>\n",
              "      <td>62.0</td>\n",
              "    </tr>\n",
              "    <tr>\n",
              "      <th>3</th>\n",
              "      <td>4</td>\n",
              "      <td>Sing</td>\n",
              "      <td>Animation,Comedy,Family</td>\n",
              "      <td>In a city of humanoid animals, a hustling thea...</td>\n",
              "      <td>Christophe Lourdelet</td>\n",
              "      <td>Matthew McConaughey,Reese Witherspoon, Seth Ma...</td>\n",
              "      <td>2016</td>\n",
              "      <td>108</td>\n",
              "      <td>7.2</td>\n",
              "      <td>60545</td>\n",
              "      <td>270.32</td>\n",
              "      <td>59.0</td>\n",
              "    </tr>\n",
              "    <tr>\n",
              "      <th>4</th>\n",
              "      <td>5</td>\n",
              "      <td>Suicide Squad</td>\n",
              "      <td>Action,Adventure,Fantasy</td>\n",
              "      <td>A secret government agency recruits some of th...</td>\n",
              "      <td>David Ayer</td>\n",
              "      <td>Will Smith, Jared Leto, Margot Robbie, Viola D...</td>\n",
              "      <td>2016</td>\n",
              "      <td>123</td>\n",
              "      <td>6.2</td>\n",
              "      <td>393727</td>\n",
              "      <td>325.02</td>\n",
              "      <td>40.0</td>\n",
              "    </tr>\n",
              "    <tr>\n",
              "      <th>...</th>\n",
              "      <td>...</td>\n",
              "      <td>...</td>\n",
              "      <td>...</td>\n",
              "      <td>...</td>\n",
              "      <td>...</td>\n",
              "      <td>...</td>\n",
              "      <td>...</td>\n",
              "      <td>...</td>\n",
              "      <td>...</td>\n",
              "      <td>...</td>\n",
              "      <td>...</td>\n",
              "      <td>...</td>\n",
              "    </tr>\n",
              "    <tr>\n",
              "      <th>995</th>\n",
              "      <td>996</td>\n",
              "      <td>Secret in Their Eyes</td>\n",
              "      <td>Crime,Drama,Mystery</td>\n",
              "      <td>A tight-knit team of rising investigators, alo...</td>\n",
              "      <td>Billy Ray</td>\n",
              "      <td>Chiwetel Ejiofor, Nicole Kidman, Julia Roberts...</td>\n",
              "      <td>2015</td>\n",
              "      <td>111</td>\n",
              "      <td>6.2</td>\n",
              "      <td>27585</td>\n",
              "      <td>NaN</td>\n",
              "      <td>45.0</td>\n",
              "    </tr>\n",
              "    <tr>\n",
              "      <th>996</th>\n",
              "      <td>997</td>\n",
              "      <td>Hostel: Part II</td>\n",
              "      <td>Horror</td>\n",
              "      <td>Three American college students studying abroa...</td>\n",
              "      <td>Eli Roth</td>\n",
              "      <td>Lauren German, Heather Matarazzo, Bijou Philli...</td>\n",
              "      <td>2007</td>\n",
              "      <td>94</td>\n",
              "      <td>5.5</td>\n",
              "      <td>73152</td>\n",
              "      <td>17.54</td>\n",
              "      <td>46.0</td>\n",
              "    </tr>\n",
              "    <tr>\n",
              "      <th>997</th>\n",
              "      <td>998</td>\n",
              "      <td>Step Up 2: The Streets</td>\n",
              "      <td>Drama,Music,Romance</td>\n",
              "      <td>Romantic sparks occur between two dance studen...</td>\n",
              "      <td>Jon M. Chu</td>\n",
              "      <td>Robert Hoffman, Briana Evigan, Cassie Ventura,...</td>\n",
              "      <td>2008</td>\n",
              "      <td>98</td>\n",
              "      <td>6.2</td>\n",
              "      <td>70699</td>\n",
              "      <td>58.01</td>\n",
              "      <td>50.0</td>\n",
              "    </tr>\n",
              "    <tr>\n",
              "      <th>998</th>\n",
              "      <td>999</td>\n",
              "      <td>Search Party</td>\n",
              "      <td>Adventure,Comedy</td>\n",
              "      <td>A pair of friends embark on a mission to reuni...</td>\n",
              "      <td>Scot Armstrong</td>\n",
              "      <td>Adam Pally, T.J. Miller, Thomas Middleditch,Sh...</td>\n",
              "      <td>2014</td>\n",
              "      <td>93</td>\n",
              "      <td>5.6</td>\n",
              "      <td>4881</td>\n",
              "      <td>NaN</td>\n",
              "      <td>22.0</td>\n",
              "    </tr>\n",
              "    <tr>\n",
              "      <th>999</th>\n",
              "      <td>1000</td>\n",
              "      <td>Nine Lives</td>\n",
              "      <td>Comedy,Family,Fantasy</td>\n",
              "      <td>A stuffy businessman finds himself trapped ins...</td>\n",
              "      <td>Barry Sonnenfeld</td>\n",
              "      <td>Kevin Spacey, Jennifer Garner, Robbie Amell,Ch...</td>\n",
              "      <td>2016</td>\n",
              "      <td>87</td>\n",
              "      <td>5.3</td>\n",
              "      <td>12435</td>\n",
              "      <td>19.64</td>\n",
              "      <td>11.0</td>\n",
              "    </tr>\n",
              "  </tbody>\n",
              "</table>\n",
              "<p>1000 rows × 12 columns</p>\n",
              "</div>"
            ],
            "text/plain": [
              "     Rank                    Title  ... Revenue (Millions) Metascore\n",
              "0       1  Guardians of the Galaxy  ...             333.13      76.0\n",
              "1       2               Prometheus  ...             126.46      65.0\n",
              "2       3                    Split  ...             138.12      62.0\n",
              "3       4                     Sing  ...             270.32      59.0\n",
              "4       5            Suicide Squad  ...             325.02      40.0\n",
              "..    ...                      ...  ...                ...       ...\n",
              "995   996     Secret in Their Eyes  ...                NaN      45.0\n",
              "996   997          Hostel: Part II  ...              17.54      46.0\n",
              "997   998   Step Up 2: The Streets  ...              58.01      50.0\n",
              "998   999             Search Party  ...                NaN      22.0\n",
              "999  1000               Nine Lives  ...              19.64      11.0\n",
              "\n",
              "[1000 rows x 12 columns]"
            ]
          },
          "metadata": {
            "tags": []
          },
          "execution_count": 3
        }
      ]
    },
    {
      "cell_type": "markdown",
      "metadata": {
        "id": "QEe3-heIPkUj"
      },
      "source": [
        "#One Hot Encoding\n",
        "##### As we have Categorical data in our dataset we use One Hot encoding method to transform this feature (Genre) into numerical data."
      ]
    },
    {
      "cell_type": "code",
      "metadata": {
        "id": "HCJrmI6dsmgB"
      },
      "source": [
        "cleaned = dataset.set_index('Rank').Genre.str.split(',', expand=True).stack()"
      ],
      "execution_count": null,
      "outputs": []
    },
    {
      "cell_type": "code",
      "metadata": {
        "id": "oXX04CpKsmm9"
      },
      "source": [
        "cleaned = pd.get_dummies(cleaned).groupby(level=0).sum()"
      ],
      "execution_count": null,
      "outputs": []
    },
    {
      "cell_type": "code",
      "metadata": {
        "colab": {
          "base_uri": "https://localhost:8080/",
          "height": 493
        },
        "id": "N7vCayqGs5iP",
        "outputId": "aa884360-ddd0-4644-f3cc-a861a25a19c9"
      },
      "source": [
        "cleaned"
      ],
      "execution_count": null,
      "outputs": [
        {
          "output_type": "execute_result",
          "data": {
            "text/html": [
              "<div>\n",
              "<style scoped>\n",
              "    .dataframe tbody tr th:only-of-type {\n",
              "        vertical-align: middle;\n",
              "    }\n",
              "\n",
              "    .dataframe tbody tr th {\n",
              "        vertical-align: top;\n",
              "    }\n",
              "\n",
              "    .dataframe thead th {\n",
              "        text-align: right;\n",
              "    }\n",
              "</style>\n",
              "<table border=\"1\" class=\"dataframe\">\n",
              "  <thead>\n",
              "    <tr style=\"text-align: right;\">\n",
              "      <th></th>\n",
              "      <th>Action</th>\n",
              "      <th>Adventure</th>\n",
              "      <th>Animation</th>\n",
              "      <th>Biography</th>\n",
              "      <th>Comedy</th>\n",
              "      <th>Crime</th>\n",
              "      <th>Drama</th>\n",
              "      <th>Family</th>\n",
              "      <th>Fantasy</th>\n",
              "      <th>History</th>\n",
              "      <th>Horror</th>\n",
              "      <th>Music</th>\n",
              "      <th>Musical</th>\n",
              "      <th>Mystery</th>\n",
              "      <th>Romance</th>\n",
              "      <th>Sci-Fi</th>\n",
              "      <th>Sport</th>\n",
              "      <th>Thriller</th>\n",
              "      <th>War</th>\n",
              "      <th>Western</th>\n",
              "    </tr>\n",
              "    <tr>\n",
              "      <th>Rank</th>\n",
              "      <th></th>\n",
              "      <th></th>\n",
              "      <th></th>\n",
              "      <th></th>\n",
              "      <th></th>\n",
              "      <th></th>\n",
              "      <th></th>\n",
              "      <th></th>\n",
              "      <th></th>\n",
              "      <th></th>\n",
              "      <th></th>\n",
              "      <th></th>\n",
              "      <th></th>\n",
              "      <th></th>\n",
              "      <th></th>\n",
              "      <th></th>\n",
              "      <th></th>\n",
              "      <th></th>\n",
              "      <th></th>\n",
              "      <th></th>\n",
              "    </tr>\n",
              "  </thead>\n",
              "  <tbody>\n",
              "    <tr>\n",
              "      <th>1</th>\n",
              "      <td>1</td>\n",
              "      <td>1</td>\n",
              "      <td>0</td>\n",
              "      <td>0</td>\n",
              "      <td>0</td>\n",
              "      <td>0</td>\n",
              "      <td>0</td>\n",
              "      <td>0</td>\n",
              "      <td>0</td>\n",
              "      <td>0</td>\n",
              "      <td>0</td>\n",
              "      <td>0</td>\n",
              "      <td>0</td>\n",
              "      <td>0</td>\n",
              "      <td>0</td>\n",
              "      <td>1</td>\n",
              "      <td>0</td>\n",
              "      <td>0</td>\n",
              "      <td>0</td>\n",
              "      <td>0</td>\n",
              "    </tr>\n",
              "    <tr>\n",
              "      <th>2</th>\n",
              "      <td>0</td>\n",
              "      <td>1</td>\n",
              "      <td>0</td>\n",
              "      <td>0</td>\n",
              "      <td>0</td>\n",
              "      <td>0</td>\n",
              "      <td>0</td>\n",
              "      <td>0</td>\n",
              "      <td>0</td>\n",
              "      <td>0</td>\n",
              "      <td>0</td>\n",
              "      <td>0</td>\n",
              "      <td>0</td>\n",
              "      <td>1</td>\n",
              "      <td>0</td>\n",
              "      <td>1</td>\n",
              "      <td>0</td>\n",
              "      <td>0</td>\n",
              "      <td>0</td>\n",
              "      <td>0</td>\n",
              "    </tr>\n",
              "    <tr>\n",
              "      <th>3</th>\n",
              "      <td>0</td>\n",
              "      <td>0</td>\n",
              "      <td>0</td>\n",
              "      <td>0</td>\n",
              "      <td>0</td>\n",
              "      <td>0</td>\n",
              "      <td>0</td>\n",
              "      <td>0</td>\n",
              "      <td>0</td>\n",
              "      <td>0</td>\n",
              "      <td>1</td>\n",
              "      <td>0</td>\n",
              "      <td>0</td>\n",
              "      <td>0</td>\n",
              "      <td>0</td>\n",
              "      <td>0</td>\n",
              "      <td>0</td>\n",
              "      <td>1</td>\n",
              "      <td>0</td>\n",
              "      <td>0</td>\n",
              "    </tr>\n",
              "    <tr>\n",
              "      <th>4</th>\n",
              "      <td>0</td>\n",
              "      <td>0</td>\n",
              "      <td>1</td>\n",
              "      <td>0</td>\n",
              "      <td>1</td>\n",
              "      <td>0</td>\n",
              "      <td>0</td>\n",
              "      <td>1</td>\n",
              "      <td>0</td>\n",
              "      <td>0</td>\n",
              "      <td>0</td>\n",
              "      <td>0</td>\n",
              "      <td>0</td>\n",
              "      <td>0</td>\n",
              "      <td>0</td>\n",
              "      <td>0</td>\n",
              "      <td>0</td>\n",
              "      <td>0</td>\n",
              "      <td>0</td>\n",
              "      <td>0</td>\n",
              "    </tr>\n",
              "    <tr>\n",
              "      <th>5</th>\n",
              "      <td>1</td>\n",
              "      <td>1</td>\n",
              "      <td>0</td>\n",
              "      <td>0</td>\n",
              "      <td>0</td>\n",
              "      <td>0</td>\n",
              "      <td>0</td>\n",
              "      <td>0</td>\n",
              "      <td>1</td>\n",
              "      <td>0</td>\n",
              "      <td>0</td>\n",
              "      <td>0</td>\n",
              "      <td>0</td>\n",
              "      <td>0</td>\n",
              "      <td>0</td>\n",
              "      <td>0</td>\n",
              "      <td>0</td>\n",
              "      <td>0</td>\n",
              "      <td>0</td>\n",
              "      <td>0</td>\n",
              "    </tr>\n",
              "    <tr>\n",
              "      <th>...</th>\n",
              "      <td>...</td>\n",
              "      <td>...</td>\n",
              "      <td>...</td>\n",
              "      <td>...</td>\n",
              "      <td>...</td>\n",
              "      <td>...</td>\n",
              "      <td>...</td>\n",
              "      <td>...</td>\n",
              "      <td>...</td>\n",
              "      <td>...</td>\n",
              "      <td>...</td>\n",
              "      <td>...</td>\n",
              "      <td>...</td>\n",
              "      <td>...</td>\n",
              "      <td>...</td>\n",
              "      <td>...</td>\n",
              "      <td>...</td>\n",
              "      <td>...</td>\n",
              "      <td>...</td>\n",
              "      <td>...</td>\n",
              "    </tr>\n",
              "    <tr>\n",
              "      <th>996</th>\n",
              "      <td>0</td>\n",
              "      <td>0</td>\n",
              "      <td>0</td>\n",
              "      <td>0</td>\n",
              "      <td>0</td>\n",
              "      <td>1</td>\n",
              "      <td>1</td>\n",
              "      <td>0</td>\n",
              "      <td>0</td>\n",
              "      <td>0</td>\n",
              "      <td>0</td>\n",
              "      <td>0</td>\n",
              "      <td>0</td>\n",
              "      <td>1</td>\n",
              "      <td>0</td>\n",
              "      <td>0</td>\n",
              "      <td>0</td>\n",
              "      <td>0</td>\n",
              "      <td>0</td>\n",
              "      <td>0</td>\n",
              "    </tr>\n",
              "    <tr>\n",
              "      <th>997</th>\n",
              "      <td>0</td>\n",
              "      <td>0</td>\n",
              "      <td>0</td>\n",
              "      <td>0</td>\n",
              "      <td>0</td>\n",
              "      <td>0</td>\n",
              "      <td>0</td>\n",
              "      <td>0</td>\n",
              "      <td>0</td>\n",
              "      <td>0</td>\n",
              "      <td>1</td>\n",
              "      <td>0</td>\n",
              "      <td>0</td>\n",
              "      <td>0</td>\n",
              "      <td>0</td>\n",
              "      <td>0</td>\n",
              "      <td>0</td>\n",
              "      <td>0</td>\n",
              "      <td>0</td>\n",
              "      <td>0</td>\n",
              "    </tr>\n",
              "    <tr>\n",
              "      <th>998</th>\n",
              "      <td>0</td>\n",
              "      <td>0</td>\n",
              "      <td>0</td>\n",
              "      <td>0</td>\n",
              "      <td>0</td>\n",
              "      <td>0</td>\n",
              "      <td>1</td>\n",
              "      <td>0</td>\n",
              "      <td>0</td>\n",
              "      <td>0</td>\n",
              "      <td>0</td>\n",
              "      <td>1</td>\n",
              "      <td>0</td>\n",
              "      <td>0</td>\n",
              "      <td>1</td>\n",
              "      <td>0</td>\n",
              "      <td>0</td>\n",
              "      <td>0</td>\n",
              "      <td>0</td>\n",
              "      <td>0</td>\n",
              "    </tr>\n",
              "    <tr>\n",
              "      <th>999</th>\n",
              "      <td>0</td>\n",
              "      <td>1</td>\n",
              "      <td>0</td>\n",
              "      <td>0</td>\n",
              "      <td>1</td>\n",
              "      <td>0</td>\n",
              "      <td>0</td>\n",
              "      <td>0</td>\n",
              "      <td>0</td>\n",
              "      <td>0</td>\n",
              "      <td>0</td>\n",
              "      <td>0</td>\n",
              "      <td>0</td>\n",
              "      <td>0</td>\n",
              "      <td>0</td>\n",
              "      <td>0</td>\n",
              "      <td>0</td>\n",
              "      <td>0</td>\n",
              "      <td>0</td>\n",
              "      <td>0</td>\n",
              "    </tr>\n",
              "    <tr>\n",
              "      <th>1000</th>\n",
              "      <td>0</td>\n",
              "      <td>0</td>\n",
              "      <td>0</td>\n",
              "      <td>0</td>\n",
              "      <td>1</td>\n",
              "      <td>0</td>\n",
              "      <td>0</td>\n",
              "      <td>1</td>\n",
              "      <td>1</td>\n",
              "      <td>0</td>\n",
              "      <td>0</td>\n",
              "      <td>0</td>\n",
              "      <td>0</td>\n",
              "      <td>0</td>\n",
              "      <td>0</td>\n",
              "      <td>0</td>\n",
              "      <td>0</td>\n",
              "      <td>0</td>\n",
              "      <td>0</td>\n",
              "      <td>0</td>\n",
              "    </tr>\n",
              "  </tbody>\n",
              "</table>\n",
              "<p>1000 rows × 20 columns</p>\n",
              "</div>"
            ],
            "text/plain": [
              "      Action  Adventure  Animation  Biography  ...  Sport  Thriller  War  Western\n",
              "Rank                                           ...                               \n",
              "1          1          1          0          0  ...      0         0    0        0\n",
              "2          0          1          0          0  ...      0         0    0        0\n",
              "3          0          0          0          0  ...      0         1    0        0\n",
              "4          0          0          1          0  ...      0         0    0        0\n",
              "5          1          1          0          0  ...      0         0    0        0\n",
              "...      ...        ...        ...        ...  ...    ...       ...  ...      ...\n",
              "996        0          0          0          0  ...      0         0    0        0\n",
              "997        0          0          0          0  ...      0         0    0        0\n",
              "998        0          0          0          0  ...      0         0    0        0\n",
              "999        0          1          0          0  ...      0         0    0        0\n",
              "1000       0          0          0          0  ...      0         0    0        0\n",
              "\n",
              "[1000 rows x 20 columns]"
            ]
          },
          "metadata": {
            "tags": []
          },
          "execution_count": 6
        }
      ]
    },
    {
      "cell_type": "markdown",
      "metadata": {
        "id": "s6TyLZHPRhgc"
      },
      "source": [
        "#####Now we have the categorical data encoded into 20 columns as we have 20 different Genres.\n",
        "\n",
        "#####Now we seperate the remained 4 features from the original dataset and merge it to the \"cleaned\" dataset by concatenate method."
      ]
    },
    {
      "cell_type": "code",
      "metadata": {
        "id": "tr74emrjufLZ"
      },
      "source": [
        "dataset_new=dataset.iloc[:, [7,8,9,11]]"
      ],
      "execution_count": null,
      "outputs": []
    },
    {
      "cell_type": "code",
      "metadata": {
        "id": "ZHxi5pbp4svw"
      },
      "source": [
        "data = []\n",
        "data.insert(0, {'Runtime (Minutes)':0, 'Rating':0, 'Votes':0, 'Metascore':0})"
      ],
      "execution_count": null,
      "outputs": []
    },
    {
      "cell_type": "code",
      "metadata": {
        "id": "UXZv6_CP5UB0"
      },
      "source": [
        "ds=pd.concat([pd.DataFrame(data), dataset_new], ignore_index=True)"
      ],
      "execution_count": null,
      "outputs": []
    },
    {
      "cell_type": "code",
      "metadata": {
        "id": "uL0tjRHitwt7"
      },
      "source": [
        "horizontal_stack = pd.concat([cleaned, ds], axis=1)"
      ],
      "execution_count": null,
      "outputs": []
    },
    {
      "cell_type": "code",
      "metadata": {
        "colab": {
          "base_uri": "https://localhost:8080/",
          "height": 461
        },
        "id": "O6Nl1tZWupo7",
        "outputId": "b74ee531-4d3c-488e-9f28-a6e44380c970"
      },
      "source": [
        "horizontal_stack"
      ],
      "execution_count": null,
      "outputs": [
        {
          "output_type": "execute_result",
          "data": {
            "text/html": [
              "<div>\n",
              "<style scoped>\n",
              "    .dataframe tbody tr th:only-of-type {\n",
              "        vertical-align: middle;\n",
              "    }\n",
              "\n",
              "    .dataframe tbody tr th {\n",
              "        vertical-align: top;\n",
              "    }\n",
              "\n",
              "    .dataframe thead th {\n",
              "        text-align: right;\n",
              "    }\n",
              "</style>\n",
              "<table border=\"1\" class=\"dataframe\">\n",
              "  <thead>\n",
              "    <tr style=\"text-align: right;\">\n",
              "      <th></th>\n",
              "      <th>Action</th>\n",
              "      <th>Adventure</th>\n",
              "      <th>Animation</th>\n",
              "      <th>Biography</th>\n",
              "      <th>Comedy</th>\n",
              "      <th>Crime</th>\n",
              "      <th>Drama</th>\n",
              "      <th>Family</th>\n",
              "      <th>Fantasy</th>\n",
              "      <th>History</th>\n",
              "      <th>Horror</th>\n",
              "      <th>Music</th>\n",
              "      <th>Musical</th>\n",
              "      <th>Mystery</th>\n",
              "      <th>Romance</th>\n",
              "      <th>Sci-Fi</th>\n",
              "      <th>Sport</th>\n",
              "      <th>Thriller</th>\n",
              "      <th>War</th>\n",
              "      <th>Western</th>\n",
              "      <th>Runtime (Minutes)</th>\n",
              "      <th>Rating</th>\n",
              "      <th>Votes</th>\n",
              "      <th>Metascore</th>\n",
              "    </tr>\n",
              "  </thead>\n",
              "  <tbody>\n",
              "    <tr>\n",
              "      <th>0</th>\n",
              "      <td>NaN</td>\n",
              "      <td>NaN</td>\n",
              "      <td>NaN</td>\n",
              "      <td>NaN</td>\n",
              "      <td>NaN</td>\n",
              "      <td>NaN</td>\n",
              "      <td>NaN</td>\n",
              "      <td>NaN</td>\n",
              "      <td>NaN</td>\n",
              "      <td>NaN</td>\n",
              "      <td>NaN</td>\n",
              "      <td>NaN</td>\n",
              "      <td>NaN</td>\n",
              "      <td>NaN</td>\n",
              "      <td>NaN</td>\n",
              "      <td>NaN</td>\n",
              "      <td>NaN</td>\n",
              "      <td>NaN</td>\n",
              "      <td>NaN</td>\n",
              "      <td>NaN</td>\n",
              "      <td>0</td>\n",
              "      <td>0.0</td>\n",
              "      <td>0</td>\n",
              "      <td>0.0</td>\n",
              "    </tr>\n",
              "    <tr>\n",
              "      <th>1</th>\n",
              "      <td>1.0</td>\n",
              "      <td>1.0</td>\n",
              "      <td>0.0</td>\n",
              "      <td>0.0</td>\n",
              "      <td>0.0</td>\n",
              "      <td>0.0</td>\n",
              "      <td>0.0</td>\n",
              "      <td>0.0</td>\n",
              "      <td>0.0</td>\n",
              "      <td>0.0</td>\n",
              "      <td>0.0</td>\n",
              "      <td>0.0</td>\n",
              "      <td>0.0</td>\n",
              "      <td>0.0</td>\n",
              "      <td>0.0</td>\n",
              "      <td>1.0</td>\n",
              "      <td>0.0</td>\n",
              "      <td>0.0</td>\n",
              "      <td>0.0</td>\n",
              "      <td>0.0</td>\n",
              "      <td>121</td>\n",
              "      <td>8.1</td>\n",
              "      <td>757074</td>\n",
              "      <td>76.0</td>\n",
              "    </tr>\n",
              "    <tr>\n",
              "      <th>2</th>\n",
              "      <td>0.0</td>\n",
              "      <td>1.0</td>\n",
              "      <td>0.0</td>\n",
              "      <td>0.0</td>\n",
              "      <td>0.0</td>\n",
              "      <td>0.0</td>\n",
              "      <td>0.0</td>\n",
              "      <td>0.0</td>\n",
              "      <td>0.0</td>\n",
              "      <td>0.0</td>\n",
              "      <td>0.0</td>\n",
              "      <td>0.0</td>\n",
              "      <td>0.0</td>\n",
              "      <td>1.0</td>\n",
              "      <td>0.0</td>\n",
              "      <td>1.0</td>\n",
              "      <td>0.0</td>\n",
              "      <td>0.0</td>\n",
              "      <td>0.0</td>\n",
              "      <td>0.0</td>\n",
              "      <td>124</td>\n",
              "      <td>7.0</td>\n",
              "      <td>485820</td>\n",
              "      <td>65.0</td>\n",
              "    </tr>\n",
              "    <tr>\n",
              "      <th>3</th>\n",
              "      <td>0.0</td>\n",
              "      <td>0.0</td>\n",
              "      <td>0.0</td>\n",
              "      <td>0.0</td>\n",
              "      <td>0.0</td>\n",
              "      <td>0.0</td>\n",
              "      <td>0.0</td>\n",
              "      <td>0.0</td>\n",
              "      <td>0.0</td>\n",
              "      <td>0.0</td>\n",
              "      <td>1.0</td>\n",
              "      <td>0.0</td>\n",
              "      <td>0.0</td>\n",
              "      <td>0.0</td>\n",
              "      <td>0.0</td>\n",
              "      <td>0.0</td>\n",
              "      <td>0.0</td>\n",
              "      <td>1.0</td>\n",
              "      <td>0.0</td>\n",
              "      <td>0.0</td>\n",
              "      <td>117</td>\n",
              "      <td>7.3</td>\n",
              "      <td>157606</td>\n",
              "      <td>62.0</td>\n",
              "    </tr>\n",
              "    <tr>\n",
              "      <th>4</th>\n",
              "      <td>0.0</td>\n",
              "      <td>0.0</td>\n",
              "      <td>1.0</td>\n",
              "      <td>0.0</td>\n",
              "      <td>1.0</td>\n",
              "      <td>0.0</td>\n",
              "      <td>0.0</td>\n",
              "      <td>1.0</td>\n",
              "      <td>0.0</td>\n",
              "      <td>0.0</td>\n",
              "      <td>0.0</td>\n",
              "      <td>0.0</td>\n",
              "      <td>0.0</td>\n",
              "      <td>0.0</td>\n",
              "      <td>0.0</td>\n",
              "      <td>0.0</td>\n",
              "      <td>0.0</td>\n",
              "      <td>0.0</td>\n",
              "      <td>0.0</td>\n",
              "      <td>0.0</td>\n",
              "      <td>108</td>\n",
              "      <td>7.2</td>\n",
              "      <td>60545</td>\n",
              "      <td>59.0</td>\n",
              "    </tr>\n",
              "    <tr>\n",
              "      <th>...</th>\n",
              "      <td>...</td>\n",
              "      <td>...</td>\n",
              "      <td>...</td>\n",
              "      <td>...</td>\n",
              "      <td>...</td>\n",
              "      <td>...</td>\n",
              "      <td>...</td>\n",
              "      <td>...</td>\n",
              "      <td>...</td>\n",
              "      <td>...</td>\n",
              "      <td>...</td>\n",
              "      <td>...</td>\n",
              "      <td>...</td>\n",
              "      <td>...</td>\n",
              "      <td>...</td>\n",
              "      <td>...</td>\n",
              "      <td>...</td>\n",
              "      <td>...</td>\n",
              "      <td>...</td>\n",
              "      <td>...</td>\n",
              "      <td>...</td>\n",
              "      <td>...</td>\n",
              "      <td>...</td>\n",
              "      <td>...</td>\n",
              "    </tr>\n",
              "    <tr>\n",
              "      <th>996</th>\n",
              "      <td>0.0</td>\n",
              "      <td>0.0</td>\n",
              "      <td>0.0</td>\n",
              "      <td>0.0</td>\n",
              "      <td>0.0</td>\n",
              "      <td>1.0</td>\n",
              "      <td>1.0</td>\n",
              "      <td>0.0</td>\n",
              "      <td>0.0</td>\n",
              "      <td>0.0</td>\n",
              "      <td>0.0</td>\n",
              "      <td>0.0</td>\n",
              "      <td>0.0</td>\n",
              "      <td>1.0</td>\n",
              "      <td>0.0</td>\n",
              "      <td>0.0</td>\n",
              "      <td>0.0</td>\n",
              "      <td>0.0</td>\n",
              "      <td>0.0</td>\n",
              "      <td>0.0</td>\n",
              "      <td>111</td>\n",
              "      <td>6.2</td>\n",
              "      <td>27585</td>\n",
              "      <td>45.0</td>\n",
              "    </tr>\n",
              "    <tr>\n",
              "      <th>997</th>\n",
              "      <td>0.0</td>\n",
              "      <td>0.0</td>\n",
              "      <td>0.0</td>\n",
              "      <td>0.0</td>\n",
              "      <td>0.0</td>\n",
              "      <td>0.0</td>\n",
              "      <td>0.0</td>\n",
              "      <td>0.0</td>\n",
              "      <td>0.0</td>\n",
              "      <td>0.0</td>\n",
              "      <td>1.0</td>\n",
              "      <td>0.0</td>\n",
              "      <td>0.0</td>\n",
              "      <td>0.0</td>\n",
              "      <td>0.0</td>\n",
              "      <td>0.0</td>\n",
              "      <td>0.0</td>\n",
              "      <td>0.0</td>\n",
              "      <td>0.0</td>\n",
              "      <td>0.0</td>\n",
              "      <td>94</td>\n",
              "      <td>5.5</td>\n",
              "      <td>73152</td>\n",
              "      <td>46.0</td>\n",
              "    </tr>\n",
              "    <tr>\n",
              "      <th>998</th>\n",
              "      <td>0.0</td>\n",
              "      <td>0.0</td>\n",
              "      <td>0.0</td>\n",
              "      <td>0.0</td>\n",
              "      <td>0.0</td>\n",
              "      <td>0.0</td>\n",
              "      <td>1.0</td>\n",
              "      <td>0.0</td>\n",
              "      <td>0.0</td>\n",
              "      <td>0.0</td>\n",
              "      <td>0.0</td>\n",
              "      <td>1.0</td>\n",
              "      <td>0.0</td>\n",
              "      <td>0.0</td>\n",
              "      <td>1.0</td>\n",
              "      <td>0.0</td>\n",
              "      <td>0.0</td>\n",
              "      <td>0.0</td>\n",
              "      <td>0.0</td>\n",
              "      <td>0.0</td>\n",
              "      <td>98</td>\n",
              "      <td>6.2</td>\n",
              "      <td>70699</td>\n",
              "      <td>50.0</td>\n",
              "    </tr>\n",
              "    <tr>\n",
              "      <th>999</th>\n",
              "      <td>0.0</td>\n",
              "      <td>1.0</td>\n",
              "      <td>0.0</td>\n",
              "      <td>0.0</td>\n",
              "      <td>1.0</td>\n",
              "      <td>0.0</td>\n",
              "      <td>0.0</td>\n",
              "      <td>0.0</td>\n",
              "      <td>0.0</td>\n",
              "      <td>0.0</td>\n",
              "      <td>0.0</td>\n",
              "      <td>0.0</td>\n",
              "      <td>0.0</td>\n",
              "      <td>0.0</td>\n",
              "      <td>0.0</td>\n",
              "      <td>0.0</td>\n",
              "      <td>0.0</td>\n",
              "      <td>0.0</td>\n",
              "      <td>0.0</td>\n",
              "      <td>0.0</td>\n",
              "      <td>93</td>\n",
              "      <td>5.6</td>\n",
              "      <td>4881</td>\n",
              "      <td>22.0</td>\n",
              "    </tr>\n",
              "    <tr>\n",
              "      <th>1000</th>\n",
              "      <td>0.0</td>\n",
              "      <td>0.0</td>\n",
              "      <td>0.0</td>\n",
              "      <td>0.0</td>\n",
              "      <td>1.0</td>\n",
              "      <td>0.0</td>\n",
              "      <td>0.0</td>\n",
              "      <td>1.0</td>\n",
              "      <td>1.0</td>\n",
              "      <td>0.0</td>\n",
              "      <td>0.0</td>\n",
              "      <td>0.0</td>\n",
              "      <td>0.0</td>\n",
              "      <td>0.0</td>\n",
              "      <td>0.0</td>\n",
              "      <td>0.0</td>\n",
              "      <td>0.0</td>\n",
              "      <td>0.0</td>\n",
              "      <td>0.0</td>\n",
              "      <td>0.0</td>\n",
              "      <td>87</td>\n",
              "      <td>5.3</td>\n",
              "      <td>12435</td>\n",
              "      <td>11.0</td>\n",
              "    </tr>\n",
              "  </tbody>\n",
              "</table>\n",
              "<p>1001 rows × 24 columns</p>\n",
              "</div>"
            ],
            "text/plain": [
              "      Action  Adventure  Animation  ...  Rating   Votes  Metascore\n",
              "0        NaN        NaN        NaN  ...     0.0       0        0.0\n",
              "1        1.0        1.0        0.0  ...     8.1  757074       76.0\n",
              "2        0.0        1.0        0.0  ...     7.0  485820       65.0\n",
              "3        0.0        0.0        0.0  ...     7.3  157606       62.0\n",
              "4        0.0        0.0        1.0  ...     7.2   60545       59.0\n",
              "...      ...        ...        ...  ...     ...     ...        ...\n",
              "996      0.0        0.0        0.0  ...     6.2   27585       45.0\n",
              "997      0.0        0.0        0.0  ...     5.5   73152       46.0\n",
              "998      0.0        0.0        0.0  ...     6.2   70699       50.0\n",
              "999      0.0        1.0        0.0  ...     5.6    4881       22.0\n",
              "1000     0.0        0.0        0.0  ...     5.3   12435       11.0\n",
              "\n",
              "[1001 rows x 24 columns]"
            ]
          },
          "metadata": {
            "tags": []
          },
          "execution_count": 11
        }
      ]
    },
    {
      "cell_type": "code",
      "metadata": {
        "id": "hlVkb0ub6bsO"
      },
      "source": [
        "horizontal_stack.drop(index=horizontal_stack.index[0], \n",
        "        axis=0, \n",
        "        inplace=True)"
      ],
      "execution_count": null,
      "outputs": []
    },
    {
      "cell_type": "code",
      "metadata": {
        "colab": {
          "base_uri": "https://localhost:8080/",
          "height": 461
        },
        "id": "bviaKiCNFoV2",
        "outputId": "2a038e42-39b7-4b84-b615-dc7a08cb8324"
      },
      "source": [
        "horizontal_stack"
      ],
      "execution_count": null,
      "outputs": [
        {
          "output_type": "execute_result",
          "data": {
            "text/html": [
              "<div>\n",
              "<style scoped>\n",
              "    .dataframe tbody tr th:only-of-type {\n",
              "        vertical-align: middle;\n",
              "    }\n",
              "\n",
              "    .dataframe tbody tr th {\n",
              "        vertical-align: top;\n",
              "    }\n",
              "\n",
              "    .dataframe thead th {\n",
              "        text-align: right;\n",
              "    }\n",
              "</style>\n",
              "<table border=\"1\" class=\"dataframe\">\n",
              "  <thead>\n",
              "    <tr style=\"text-align: right;\">\n",
              "      <th></th>\n",
              "      <th>Action</th>\n",
              "      <th>Adventure</th>\n",
              "      <th>Animation</th>\n",
              "      <th>Biography</th>\n",
              "      <th>Comedy</th>\n",
              "      <th>Crime</th>\n",
              "      <th>Drama</th>\n",
              "      <th>Family</th>\n",
              "      <th>Fantasy</th>\n",
              "      <th>History</th>\n",
              "      <th>Horror</th>\n",
              "      <th>Music</th>\n",
              "      <th>Musical</th>\n",
              "      <th>Mystery</th>\n",
              "      <th>Romance</th>\n",
              "      <th>Sci-Fi</th>\n",
              "      <th>Sport</th>\n",
              "      <th>Thriller</th>\n",
              "      <th>War</th>\n",
              "      <th>Western</th>\n",
              "      <th>Runtime (Minutes)</th>\n",
              "      <th>Rating</th>\n",
              "      <th>Votes</th>\n",
              "      <th>Metascore</th>\n",
              "    </tr>\n",
              "  </thead>\n",
              "  <tbody>\n",
              "    <tr>\n",
              "      <th>1</th>\n",
              "      <td>1.0</td>\n",
              "      <td>1.0</td>\n",
              "      <td>0.0</td>\n",
              "      <td>0.0</td>\n",
              "      <td>0.0</td>\n",
              "      <td>0.0</td>\n",
              "      <td>0.0</td>\n",
              "      <td>0.0</td>\n",
              "      <td>0.0</td>\n",
              "      <td>0.0</td>\n",
              "      <td>0.0</td>\n",
              "      <td>0.0</td>\n",
              "      <td>0.0</td>\n",
              "      <td>0.0</td>\n",
              "      <td>0.0</td>\n",
              "      <td>1.0</td>\n",
              "      <td>0.0</td>\n",
              "      <td>0.0</td>\n",
              "      <td>0.0</td>\n",
              "      <td>0.0</td>\n",
              "      <td>121</td>\n",
              "      <td>8.1</td>\n",
              "      <td>757074</td>\n",
              "      <td>76.0</td>\n",
              "    </tr>\n",
              "    <tr>\n",
              "      <th>2</th>\n",
              "      <td>0.0</td>\n",
              "      <td>1.0</td>\n",
              "      <td>0.0</td>\n",
              "      <td>0.0</td>\n",
              "      <td>0.0</td>\n",
              "      <td>0.0</td>\n",
              "      <td>0.0</td>\n",
              "      <td>0.0</td>\n",
              "      <td>0.0</td>\n",
              "      <td>0.0</td>\n",
              "      <td>0.0</td>\n",
              "      <td>0.0</td>\n",
              "      <td>0.0</td>\n",
              "      <td>1.0</td>\n",
              "      <td>0.0</td>\n",
              "      <td>1.0</td>\n",
              "      <td>0.0</td>\n",
              "      <td>0.0</td>\n",
              "      <td>0.0</td>\n",
              "      <td>0.0</td>\n",
              "      <td>124</td>\n",
              "      <td>7.0</td>\n",
              "      <td>485820</td>\n",
              "      <td>65.0</td>\n",
              "    </tr>\n",
              "    <tr>\n",
              "      <th>3</th>\n",
              "      <td>0.0</td>\n",
              "      <td>0.0</td>\n",
              "      <td>0.0</td>\n",
              "      <td>0.0</td>\n",
              "      <td>0.0</td>\n",
              "      <td>0.0</td>\n",
              "      <td>0.0</td>\n",
              "      <td>0.0</td>\n",
              "      <td>0.0</td>\n",
              "      <td>0.0</td>\n",
              "      <td>1.0</td>\n",
              "      <td>0.0</td>\n",
              "      <td>0.0</td>\n",
              "      <td>0.0</td>\n",
              "      <td>0.0</td>\n",
              "      <td>0.0</td>\n",
              "      <td>0.0</td>\n",
              "      <td>1.0</td>\n",
              "      <td>0.0</td>\n",
              "      <td>0.0</td>\n",
              "      <td>117</td>\n",
              "      <td>7.3</td>\n",
              "      <td>157606</td>\n",
              "      <td>62.0</td>\n",
              "    </tr>\n",
              "    <tr>\n",
              "      <th>4</th>\n",
              "      <td>0.0</td>\n",
              "      <td>0.0</td>\n",
              "      <td>1.0</td>\n",
              "      <td>0.0</td>\n",
              "      <td>1.0</td>\n",
              "      <td>0.0</td>\n",
              "      <td>0.0</td>\n",
              "      <td>1.0</td>\n",
              "      <td>0.0</td>\n",
              "      <td>0.0</td>\n",
              "      <td>0.0</td>\n",
              "      <td>0.0</td>\n",
              "      <td>0.0</td>\n",
              "      <td>0.0</td>\n",
              "      <td>0.0</td>\n",
              "      <td>0.0</td>\n",
              "      <td>0.0</td>\n",
              "      <td>0.0</td>\n",
              "      <td>0.0</td>\n",
              "      <td>0.0</td>\n",
              "      <td>108</td>\n",
              "      <td>7.2</td>\n",
              "      <td>60545</td>\n",
              "      <td>59.0</td>\n",
              "    </tr>\n",
              "    <tr>\n",
              "      <th>5</th>\n",
              "      <td>1.0</td>\n",
              "      <td>1.0</td>\n",
              "      <td>0.0</td>\n",
              "      <td>0.0</td>\n",
              "      <td>0.0</td>\n",
              "      <td>0.0</td>\n",
              "      <td>0.0</td>\n",
              "      <td>0.0</td>\n",
              "      <td>1.0</td>\n",
              "      <td>0.0</td>\n",
              "      <td>0.0</td>\n",
              "      <td>0.0</td>\n",
              "      <td>0.0</td>\n",
              "      <td>0.0</td>\n",
              "      <td>0.0</td>\n",
              "      <td>0.0</td>\n",
              "      <td>0.0</td>\n",
              "      <td>0.0</td>\n",
              "      <td>0.0</td>\n",
              "      <td>0.0</td>\n",
              "      <td>123</td>\n",
              "      <td>6.2</td>\n",
              "      <td>393727</td>\n",
              "      <td>40.0</td>\n",
              "    </tr>\n",
              "    <tr>\n",
              "      <th>...</th>\n",
              "      <td>...</td>\n",
              "      <td>...</td>\n",
              "      <td>...</td>\n",
              "      <td>...</td>\n",
              "      <td>...</td>\n",
              "      <td>...</td>\n",
              "      <td>...</td>\n",
              "      <td>...</td>\n",
              "      <td>...</td>\n",
              "      <td>...</td>\n",
              "      <td>...</td>\n",
              "      <td>...</td>\n",
              "      <td>...</td>\n",
              "      <td>...</td>\n",
              "      <td>...</td>\n",
              "      <td>...</td>\n",
              "      <td>...</td>\n",
              "      <td>...</td>\n",
              "      <td>...</td>\n",
              "      <td>...</td>\n",
              "      <td>...</td>\n",
              "      <td>...</td>\n",
              "      <td>...</td>\n",
              "      <td>...</td>\n",
              "    </tr>\n",
              "    <tr>\n",
              "      <th>996</th>\n",
              "      <td>0.0</td>\n",
              "      <td>0.0</td>\n",
              "      <td>0.0</td>\n",
              "      <td>0.0</td>\n",
              "      <td>0.0</td>\n",
              "      <td>1.0</td>\n",
              "      <td>1.0</td>\n",
              "      <td>0.0</td>\n",
              "      <td>0.0</td>\n",
              "      <td>0.0</td>\n",
              "      <td>0.0</td>\n",
              "      <td>0.0</td>\n",
              "      <td>0.0</td>\n",
              "      <td>1.0</td>\n",
              "      <td>0.0</td>\n",
              "      <td>0.0</td>\n",
              "      <td>0.0</td>\n",
              "      <td>0.0</td>\n",
              "      <td>0.0</td>\n",
              "      <td>0.0</td>\n",
              "      <td>111</td>\n",
              "      <td>6.2</td>\n",
              "      <td>27585</td>\n",
              "      <td>45.0</td>\n",
              "    </tr>\n",
              "    <tr>\n",
              "      <th>997</th>\n",
              "      <td>0.0</td>\n",
              "      <td>0.0</td>\n",
              "      <td>0.0</td>\n",
              "      <td>0.0</td>\n",
              "      <td>0.0</td>\n",
              "      <td>0.0</td>\n",
              "      <td>0.0</td>\n",
              "      <td>0.0</td>\n",
              "      <td>0.0</td>\n",
              "      <td>0.0</td>\n",
              "      <td>1.0</td>\n",
              "      <td>0.0</td>\n",
              "      <td>0.0</td>\n",
              "      <td>0.0</td>\n",
              "      <td>0.0</td>\n",
              "      <td>0.0</td>\n",
              "      <td>0.0</td>\n",
              "      <td>0.0</td>\n",
              "      <td>0.0</td>\n",
              "      <td>0.0</td>\n",
              "      <td>94</td>\n",
              "      <td>5.5</td>\n",
              "      <td>73152</td>\n",
              "      <td>46.0</td>\n",
              "    </tr>\n",
              "    <tr>\n",
              "      <th>998</th>\n",
              "      <td>0.0</td>\n",
              "      <td>0.0</td>\n",
              "      <td>0.0</td>\n",
              "      <td>0.0</td>\n",
              "      <td>0.0</td>\n",
              "      <td>0.0</td>\n",
              "      <td>1.0</td>\n",
              "      <td>0.0</td>\n",
              "      <td>0.0</td>\n",
              "      <td>0.0</td>\n",
              "      <td>0.0</td>\n",
              "      <td>1.0</td>\n",
              "      <td>0.0</td>\n",
              "      <td>0.0</td>\n",
              "      <td>1.0</td>\n",
              "      <td>0.0</td>\n",
              "      <td>0.0</td>\n",
              "      <td>0.0</td>\n",
              "      <td>0.0</td>\n",
              "      <td>0.0</td>\n",
              "      <td>98</td>\n",
              "      <td>6.2</td>\n",
              "      <td>70699</td>\n",
              "      <td>50.0</td>\n",
              "    </tr>\n",
              "    <tr>\n",
              "      <th>999</th>\n",
              "      <td>0.0</td>\n",
              "      <td>1.0</td>\n",
              "      <td>0.0</td>\n",
              "      <td>0.0</td>\n",
              "      <td>1.0</td>\n",
              "      <td>0.0</td>\n",
              "      <td>0.0</td>\n",
              "      <td>0.0</td>\n",
              "      <td>0.0</td>\n",
              "      <td>0.0</td>\n",
              "      <td>0.0</td>\n",
              "      <td>0.0</td>\n",
              "      <td>0.0</td>\n",
              "      <td>0.0</td>\n",
              "      <td>0.0</td>\n",
              "      <td>0.0</td>\n",
              "      <td>0.0</td>\n",
              "      <td>0.0</td>\n",
              "      <td>0.0</td>\n",
              "      <td>0.0</td>\n",
              "      <td>93</td>\n",
              "      <td>5.6</td>\n",
              "      <td>4881</td>\n",
              "      <td>22.0</td>\n",
              "    </tr>\n",
              "    <tr>\n",
              "      <th>1000</th>\n",
              "      <td>0.0</td>\n",
              "      <td>0.0</td>\n",
              "      <td>0.0</td>\n",
              "      <td>0.0</td>\n",
              "      <td>1.0</td>\n",
              "      <td>0.0</td>\n",
              "      <td>0.0</td>\n",
              "      <td>1.0</td>\n",
              "      <td>1.0</td>\n",
              "      <td>0.0</td>\n",
              "      <td>0.0</td>\n",
              "      <td>0.0</td>\n",
              "      <td>0.0</td>\n",
              "      <td>0.0</td>\n",
              "      <td>0.0</td>\n",
              "      <td>0.0</td>\n",
              "      <td>0.0</td>\n",
              "      <td>0.0</td>\n",
              "      <td>0.0</td>\n",
              "      <td>0.0</td>\n",
              "      <td>87</td>\n",
              "      <td>5.3</td>\n",
              "      <td>12435</td>\n",
              "      <td>11.0</td>\n",
              "    </tr>\n",
              "  </tbody>\n",
              "</table>\n",
              "<p>1000 rows × 24 columns</p>\n",
              "</div>"
            ],
            "text/plain": [
              "      Action  Adventure  Animation  ...  Rating   Votes  Metascore\n",
              "1        1.0        1.0        0.0  ...     8.1  757074       76.0\n",
              "2        0.0        1.0        0.0  ...     7.0  485820       65.0\n",
              "3        0.0        0.0        0.0  ...     7.3  157606       62.0\n",
              "4        0.0        0.0        1.0  ...     7.2   60545       59.0\n",
              "5        1.0        1.0        0.0  ...     6.2  393727       40.0\n",
              "...      ...        ...        ...  ...     ...     ...        ...\n",
              "996      0.0        0.0        0.0  ...     6.2   27585       45.0\n",
              "997      0.0        0.0        0.0  ...     5.5   73152       46.0\n",
              "998      0.0        0.0        0.0  ...     6.2   70699       50.0\n",
              "999      0.0        1.0        0.0  ...     5.6    4881       22.0\n",
              "1000     0.0        0.0        0.0  ...     5.3   12435       11.0\n",
              "\n",
              "[1000 rows x 24 columns]"
            ]
          },
          "metadata": {
            "tags": []
          },
          "execution_count": 13
        }
      ]
    },
    {
      "cell_type": "markdown",
      "metadata": {
        "id": "H16epCC2S89g"
      },
      "source": [
        "#####Well, it's time to form the dependent variable(y: Revenue) and the Matrix of features X."
      ]
    },
    {
      "cell_type": "code",
      "metadata": {
        "id": "O77_QJhRLCtB"
      },
      "source": [
        "X = np.array(horizontal_stack)\n",
        "y=dataset.iloc[:,10].values"
      ],
      "execution_count": null,
      "outputs": []
    },
    {
      "cell_type": "markdown",
      "metadata": {
        "id": "lyuf1hJ7Tuur"
      },
      "source": [
        "##Taking care of missing data\n",
        "#####We do this part with simpleimputer class. After testing multiple times, we got the best result with the \"most-frequent\" method for replacing the missing data of X and \"mean\" for y."
      ]
    },
    {
      "cell_type": "code",
      "metadata": {
        "id": "whQJnV1SaiYz"
      },
      "source": [
        "from sklearn.impute import SimpleImputer\n",
        "imputer = SimpleImputer(missing_values=np.NaN, strategy='most_frequent', verbose=1)\n",
        "imputer.fit(X[:, 20:])\n",
        "X[:, 20:] = imputer.transform(X[:, 20:])"
      ],
      "execution_count": null,
      "outputs": []
    },
    {
      "cell_type": "code",
      "metadata": {
        "id": "ZbUryFenGqWZ"
      },
      "source": [
        "y = y.reshape(len(y),1)"
      ],
      "execution_count": null,
      "outputs": []
    },
    {
      "cell_type": "code",
      "metadata": {
        "id": "L_tn_SxkDgqQ"
      },
      "source": [
        "from sklearn.impute import SimpleImputer\n",
        "imputer = SimpleImputer(missing_values=np.NaN, strategy='mean')\n",
        "imputer.fit(y)\n",
        "y = imputer.transform(y)"
      ],
      "execution_count": null,
      "outputs": []
    },
    {
      "cell_type": "markdown",
      "metadata": {
        "id": "mHKN2o3c6tWi"
      },
      "source": [
        "#Splitting the dataset into the test set and training set"
      ]
    },
    {
      "cell_type": "code",
      "metadata": {
        "id": "M-PNNgctjgON"
      },
      "source": [
        "from sklearn.model_selection import train_test_split\n",
        "X_train, X_test, y_train, y_test = train_test_split(X, y, test_size = 0.2, random_state = 0)"
      ],
      "execution_count": null,
      "outputs": []
    },
    {
      "cell_type": "code",
      "metadata": {
        "id": "UTrrPofGrK0s",
        "colab": {
          "base_uri": "https://localhost:8080/"
        },
        "outputId": "f6f550e7-24b3-455d-97bd-24964f53ec01"
      },
      "source": [
        "type(y_train)"
      ],
      "execution_count": null,
      "outputs": [
        {
          "output_type": "execute_result",
          "data": {
            "text/plain": [
              "numpy.ndarray"
            ]
          },
          "metadata": {
            "tags": []
          },
          "execution_count": 21
        }
      ]
    },
    {
      "cell_type": "markdown",
      "metadata": {
        "id": "HC4Z9D5AYZ7q"
      },
      "source": [
        "#Feature Scaling\n",
        "#####As we have explicit expression and relation between X and y in most of the regression modles, we only do this part for the SVR regression in its section."
      ]
    },
    {
      "cell_type": "code",
      "metadata": {
        "colab": {
          "base_uri": "https://localhost:8080/"
        },
        "id": "OZN0P8g88f7c",
        "outputId": "3b92b69e-2f4e-4b3b-e1a9-aa9696822d26"
      },
      "source": [
        "X_train"
      ],
      "execution_count": null,
      "outputs": [
        {
          "output_type": "execute_result",
          "data": {
            "text/plain": [
              "array([[ 1.  ,  1.  ,  0.  , ...,  0.46,  0.02, -1.45],\n",
              "       [ 1.  ,  0.  ,  0.  , ..., -0.06,  0.04, -0.97],\n",
              "       [ 0.  ,  0.  ,  0.  , ...,  1.01, -0.52,  1.51],\n",
              "       ...,\n",
              "       [ 0.  ,  1.  ,  0.  , ..., -0.52,  0.37, -0.73],\n",
              "       [ 0.  ,  1.  ,  0.  , ..., -0.3 , -0.8 ,  0.42],\n",
              "       [ 0.  ,  0.  ,  0.  , ...,  0.42, -0.08, -1.39]])"
            ]
          },
          "metadata": {
            "tags": []
          },
          "execution_count": 139
        }
      ]
    },
    {
      "cell_type": "markdown",
      "metadata": {
        "id": "OTLR0xJKVYNE"
      },
      "source": [
        "#Training models\n",
        "#####We start with XGBoost which is a powerful and accurate regressin model specially for nonlinear datasets like we have."
      ]
    },
    {
      "cell_type": "markdown",
      "metadata": {
        "id": "BQjUIyAedKY8"
      },
      "source": [
        "###XGBOOST"
      ]
    },
    {
      "cell_type": "code",
      "metadata": {
        "colab": {
          "base_uri": "https://localhost:8080/"
        },
        "id": "60Y2KP1wA_ww",
        "outputId": "9311dd9e-9486-428a-8101-8e1074e13b53"
      },
      "source": [
        "from xgboost import XGBRegressor\n",
        "regressor = XGBRegressor(learning_rate=0.25,n_estimators=20)\n",
        "regressor.fit(X_train, y_train)"
      ],
      "execution_count": null,
      "outputs": [
        {
          "output_type": "stream",
          "text": [
            "[20:06:26] WARNING: /workspace/src/objective/regression_obj.cu:152: reg:linear is now deprecated in favor of reg:squarederror.\n"
          ],
          "name": "stdout"
        },
        {
          "output_type": "execute_result",
          "data": {
            "text/plain": [
              "XGBRegressor(base_score=0.5, booster='gbtree', colsample_bylevel=1,\n",
              "             colsample_bynode=1, colsample_bytree=1, gamma=0,\n",
              "             importance_type='gain', learning_rate=0.25, max_delta_step=0,\n",
              "             max_depth=3, min_child_weight=1, missing=None, n_estimators=20,\n",
              "             n_jobs=1, nthread=None, objective='reg:linear', random_state=0,\n",
              "             reg_alpha=0, reg_lambda=1, scale_pos_weight=1, seed=None,\n",
              "             silent=None, subsample=1, verbosity=1)"
            ]
          },
          "metadata": {
            "tags": []
          },
          "execution_count": 20
        }
      ]
    },
    {
      "cell_type": "code",
      "metadata": {
        "colab": {
          "base_uri": "https://localhost:8080/"
        },
        "id": "-W1C1PXdBBCm",
        "outputId": "58ba8471-7269-43ce-8745-4c94e31aa994"
      },
      "source": [
        "y_pred = regressor.predict(X_test)\n",
        "np.set_printoptions(precision=2)\n",
        "print(np.concatenate((y_pred.reshape(len(y_pred),1), y_test.reshape(len(y_test),1)),1))"
      ],
      "execution_count": null,
      "outputs": [
        {
          "output_type": "stream",
          "text": [
            "[[9.12e+01 6.01e+01]\n",
            " [5.40e+01 3.57e+01]\n",
            " [3.50e+01 1.54e+01]\n",
            " [2.41e+01 8.30e+01]\n",
            " [8.10e+01 1.57e+01]\n",
            " [4.76e+01 8.00e+01]\n",
            " [7.38e+01 1.00e-02]\n",
            " [4.79e+01 0.00e+00]\n",
            " [6.88e+01 7.70e+01]\n",
            " [5.75e+01 6.25e+01]\n",
            " [1.42e+02 1.79e+02]\n",
            " [3.50e+01 2.50e+01]\n",
            " [3.19e+01 4.00e-02]\n",
            " [5.05e+01 2.66e+01]\n",
            " [2.94e+02 4.25e+02]\n",
            " [3.17e+01 7.08e+00]\n",
            " [2.46e+01 1.44e+01]\n",
            " [1.23e+02 9.34e+01]\n",
            " [3.40e+01 2.87e+00]\n",
            " [1.62e+02 1.21e+02]\n",
            " [4.62e+01 1.06e+01]\n",
            " [1.85e+01 4.51e+01]\n",
            " [6.16e+01 2.56e+02]\n",
            " [2.87e+01 2.20e+00]\n",
            " [2.10e+02 1.44e+02]\n",
            " [1.52e+02 1.70e+02]\n",
            " [2.66e+02 2.41e+02]\n",
            " [3.15e+01 8.30e+01]\n",
            " [3.16e+01 3.17e+01]\n",
            " [2.40e+02 1.26e+02]\n",
            " [3.18e+01 3.00e-01]\n",
            " [2.74e+02 4.02e+02]\n",
            " [6.64e+01 2.45e+01]\n",
            " [3.95e+01 8.70e+01]\n",
            " [1.38e+02 2.82e+02]\n",
            " [4.69e+01 2.00e-02]\n",
            " [4.39e+01 4.10e+01]\n",
            " [1.34e+02 2.92e+02]\n",
            " [6.55e+01 2.21e+00]\n",
            " [8.75e+01 2.71e+01]\n",
            " [1.87e+02 3.76e+01]\n",
            " [4.33e+01 1.75e+01]\n",
            " [1.23e+02 1.49e+02]\n",
            " [2.06e+02 1.35e+02]\n",
            " [2.63e+01 1.10e-01]\n",
            " [5.27e+01 8.30e+01]\n",
            " [7.38e+01 8.30e+01]\n",
            " [6.83e+01 6.40e+01]\n",
            " [3.74e+01 3.49e+01]\n",
            " [6.76e+01 8.35e+01]\n",
            " [8.47e+01 3.50e+02]\n",
            " [3.41e+01 1.87e+01]\n",
            " [3.41e+01 4.40e+00]\n",
            " [2.41e+02 2.02e+02]\n",
            " [6.45e+01 6.70e+01]\n",
            " [4.37e+01 3.85e+01]\n",
            " [1.47e+02 1.38e+02]\n",
            " [3.15e+02 3.04e+02]\n",
            " [3.41e+01 2.34e+01]\n",
            " [1.44e+02 2.10e+02]\n",
            " [2.98e+01 4.10e+01]\n",
            " [2.92e+01 8.60e-01]\n",
            " [6.29e+01 7.02e+01]\n",
            " [3.61e+01 2.15e+01]\n",
            " [2.80e+01 8.30e+01]\n",
            " [3.85e+01 8.30e+01]\n",
            " [3.62e+01 5.40e-01]\n",
            " [3.63e+01 6.40e+01]\n",
            " [5.82e+01 1.61e+02]\n",
            " [2.89e+01 2.76e+01]\n",
            " [3.71e+01 5.60e-01]\n",
            " [7.29e+01 4.02e+01]\n",
            " [4.33e+01 6.30e+01]\n",
            " [2.19e+01 5.66e+00]\n",
            " [2.42e+01 4.75e+01]\n",
            " [2.30e+02 2.68e+02]\n",
            " [9.82e+01 7.31e+01]\n",
            " [2.42e+01 5.48e+00]\n",
            " [3.11e+01 9.40e+01]\n",
            " [5.26e+01 8.30e+01]\n",
            " [1.25e+02 1.07e+02]\n",
            " [7.13e+01 1.64e+02]\n",
            " [7.32e+01 7.88e+01]\n",
            " [3.83e+01 2.43e+01]\n",
            " [6.64e+01 7.56e+01]\n",
            " [4.13e+01 2.32e+01]\n",
            " [2.46e+01 1.40e+01]\n",
            " [2.19e+01 2.50e-01]\n",
            " [1.05e+02 1.27e+02]\n",
            " [4.23e+01 5.34e+01]\n",
            " [4.02e+01 1.03e+01]\n",
            " [2.27e+01 2.61e+00]\n",
            " [3.10e+01 2.73e+01]\n",
            " [2.96e+02 4.09e+02]\n",
            " [3.84e+01 3.15e+01]\n",
            " [1.21e+02 4.55e+01]\n",
            " [3.84e+01 4.20e+00]\n",
            " [5.85e+01 8.30e+01]\n",
            " [5.40e+01 8.30e+01]\n",
            " [3.96e+01 8.30e+01]\n",
            " [7.97e+01 1.07e+02]\n",
            " [4.08e+01 1.38e+01]\n",
            " [2.09e+02 1.28e+02]\n",
            " [3.43e+01 3.45e+00]\n",
            " [6.84e+01 8.30e+01]\n",
            " [1.03e+02 5.47e+01]\n",
            " [4.15e+01 5.00e-02]\n",
            " [9.08e+01 2.28e+02]\n",
            " [3.76e+01 3.07e+01]\n",
            " [2.54e+02 2.06e+02]\n",
            " [4.07e+01 1.50e-01]\n",
            " [4.15e+01 4.11e+01]\n",
            " [7.42e+01 1.18e+02]\n",
            " [3.11e+01 8.30e+01]\n",
            " [1.82e+02 2.77e+02]\n",
            " [7.93e+01 4.32e+01]\n",
            " [2.79e+01 3.71e+00]\n",
            " [3.65e+01 8.30e+01]\n",
            " [1.99e+02 2.06e+02]\n",
            " [3.50e+01 6.60e+01]\n",
            " [5.30e+01 6.11e+01]\n",
            " [6.20e+01 5.86e+01]\n",
            " [3.57e+01 4.60e+01]\n",
            " [3.46e+01 1.17e+02]\n",
            " [3.14e+02 3.30e+02]\n",
            " [6.37e+01 8.16e+01]\n",
            " [3.03e+01 1.43e+01]\n",
            " [4.20e+01 1.27e+01]\n",
            " [6.49e+01 8.38e+01]\n",
            " [2.84e+01 3.49e+00]\n",
            " [1.77e+02 2.56e+02]\n",
            " [5.89e+01 3.24e+01]\n",
            " [3.03e+01 2.49e+01]\n",
            " [1.86e+01 6.86e+00]\n",
            " [6.23e+01 5.48e+01]\n",
            " [6.23e+01 8.92e+01]\n",
            " [4.45e+01 9.20e-01]\n",
            " [6.34e+01 8.01e+00]\n",
            " [1.38e+02 1.13e+02]\n",
            " [6.37e+01 6.64e+01]\n",
            " [3.07e+02 1.81e+02]\n",
            " [2.98e+01 4.00e-02]\n",
            " [3.17e+01 2.96e+00]\n",
            " [1.28e+02 1.32e+01]\n",
            " [3.00e+01 3.37e+00]\n",
            " [4.58e+01 6.24e+01]\n",
            " [1.87e+02 2.58e+02]\n",
            " [3.81e+01 4.25e+01]\n",
            " [3.15e+02 5.33e+02]\n",
            " [2.22e+01 2.68e+01]\n",
            " [5.49e+02 3.03e+02]\n",
            " [3.70e+01 6.03e+01]\n",
            " [2.37e+02 2.52e+02]\n",
            " [5.89e+01 8.30e+01]\n",
            " [6.88e+01 5.96e+01]\n",
            " [8.40e+01 4.58e+01]\n",
            " [4.23e+01 9.03e+01]\n",
            " [2.24e+02 2.29e+02]\n",
            " [4.93e+01 1.91e+01]\n",
            " [2.16e+01 8.30e+01]\n",
            " [4.69e+01 1.32e+02]\n",
            " [3.80e+01 4.26e+01]\n",
            " [2.74e+02 4.15e+02]\n",
            " [4.45e+01 8.30e+01]\n",
            " [4.44e+01 2.00e-02]\n",
            " [2.89e+01 4.21e+00]\n",
            " [3.21e+01 6.53e+01]\n",
            " [6.08e+01 8.30e+01]\n",
            " [4.53e+01 5.64e+01]\n",
            " [2.64e+02 2.95e+02]\n",
            " [3.43e+01 8.30e+01]\n",
            " [6.81e+01 7.06e+01]\n",
            " [2.41e+01 2.01e+00]\n",
            " [4.91e+01 6.88e+00]\n",
            " [1.17e+02 8.00e+01]\n",
            " [3.48e+01 2.77e+01]\n",
            " [8.47e+01 8.57e+01]\n",
            " [4.17e+01 3.00e-02]\n",
            " [5.49e+01 1.33e+01]\n",
            " [3.01e+02 1.63e+02]\n",
            " [2.38e+02 3.17e+02]\n",
            " [6.56e+01 1.96e+01]\n",
            " [3.67e+01 1.01e+00]\n",
            " [6.55e+01 4.56e+00]\n",
            " [3.23e+01 5.21e+01]\n",
            " [9.59e+01 6.42e+01]\n",
            " [3.41e+01 5.25e+01]\n",
            " [7.24e+01 1.03e+02]\n",
            " [4.15e+01 4.23e+01]\n",
            " [3.62e+01 6.60e+01]\n",
            " [7.18e+01 5.96e+01]\n",
            " [2.19e+01 1.12e+01]\n",
            " [2.89e+01 3.00e-02]\n",
            " [3.62e+01 4.51e+01]\n",
            " [3.84e+01 3.40e-01]\n",
            " [5.30e+01 5.40e-01]\n",
            " [7.24e+01 1.62e+02]\n",
            " [4.55e+01 3.11e+01]\n",
            " [3.65e+01 9.39e+00]\n",
            " [6.53e+01 5.55e+01]]\n"
          ],
          "name": "stdout"
        }
      ]
    },
    {
      "cell_type": "code",
      "metadata": {
        "colab": {
          "base_uri": "https://localhost:8080/"
        },
        "id": "o2Uc8x-VBDBx",
        "outputId": "0f96da91-3cf3-4ae6-94db-57cecb400fbb"
      },
      "source": [
        "from sklearn.metrics import r2_score\n",
        "r2_score(y_test, y_pred)"
      ],
      "execution_count": null,
      "outputs": [
        {
          "output_type": "execute_result",
          "data": {
            "text/plain": [
              "0.6400624351637667"
            ]
          },
          "metadata": {
            "tags": []
          },
          "execution_count": 22
        }
      ]
    },
    {
      "cell_type": "markdown",
      "metadata": {
        "id": "nEtAANGRAdV8"
      },
      "source": [
        "#Training the MLR model on the training set and predicting the test set results."
      ]
    },
    {
      "cell_type": "code",
      "metadata": {
        "colab": {
          "base_uri": "https://localhost:8080/"
        },
        "id": "vaJZxYVeAco-",
        "outputId": "6a035428-ca21-43c2-fa22-eb6796dd8221"
      },
      "source": [
        "from sklearn.linear_model import LinearRegression\n",
        "regressor2 = LinearRegression()\n",
        "regressor2.fit(X_train, y_train)"
      ],
      "execution_count": null,
      "outputs": [
        {
          "output_type": "execute_result",
          "data": {
            "text/plain": [
              "LinearRegression(copy_X=True, fit_intercept=True, n_jobs=None, normalize=False)"
            ]
          },
          "metadata": {
            "tags": []
          },
          "execution_count": 23
        }
      ]
    },
    {
      "cell_type": "code",
      "metadata": {
        "id": "lBOTVx8OAnDS"
      },
      "source": [
        "y_pred2 = regressor2.predict(X_test)\n",
        "np.set_printoptions(precision=2)\n",
        "print(np.concatenate((y_pred2.reshape(len(y_pred2),1), y_test.reshape(len(y_test),1)),1))"
      ],
      "execution_count": null,
      "outputs": []
    },
    {
      "cell_type": "code",
      "metadata": {
        "id": "gs-MaLKdAnGH",
        "colab": {
          "base_uri": "https://localhost:8080/"
        },
        "outputId": "58af0eac-0df0-4f0e-ac1a-8681581b919b"
      },
      "source": [
        "from sklearn.metrics import r2_score\n",
        "r2_score(y_test, y_pred2)"
      ],
      "execution_count": null,
      "outputs": [
        {
          "output_type": "execute_result",
          "data": {
            "text/plain": [
              "0.5770832828264605"
            ]
          },
          "metadata": {
            "tags": []
          },
          "execution_count": 25
        }
      ]
    },
    {
      "cell_type": "markdown",
      "metadata": {
        "id": "yXkDIjeHSPn8"
      },
      "source": [
        "#Training the Random Forest model on the training set and predicting the test set results."
      ]
    },
    {
      "cell_type": "code",
      "metadata": {
        "colab": {
          "base_uri": "https://localhost:8080/"
        },
        "id": "-cU2EXci9jHt",
        "outputId": "d11a7ec8-ee06-4aa4-aed2-a71a08b0ea27"
      },
      "source": [
        "from sklearn.ensemble import RandomForestRegressor\n",
        "regressor4 = RandomForestRegressor(n_estimators = 22, random_state = 0, n_jobs=2, min_samples_split=12)\n",
        "regressor4.fit(X_train, y_train)"
      ],
      "execution_count": null,
      "outputs": [
        {
          "output_type": "stream",
          "text": [
            "/usr/local/lib/python3.7/dist-packages/ipykernel_launcher.py:3: DataConversionWarning: A column-vector y was passed when a 1d array was expected. Please change the shape of y to (n_samples,), for example using ravel().\n",
            "  This is separate from the ipykernel package so we can avoid doing imports until\n"
          ],
          "name": "stderr"
        },
        {
          "output_type": "execute_result",
          "data": {
            "text/plain": [
              "RandomForestRegressor(bootstrap=True, ccp_alpha=0.0, criterion='mse',\n",
              "                      max_depth=None, max_features='auto', max_leaf_nodes=None,\n",
              "                      max_samples=None, min_impurity_decrease=0.0,\n",
              "                      min_impurity_split=None, min_samples_leaf=1,\n",
              "                      min_samples_split=12, min_weight_fraction_leaf=0.0,\n",
              "                      n_estimators=22, n_jobs=2, oob_score=False,\n",
              "                      random_state=0, verbose=0, warm_start=False)"
            ]
          },
          "metadata": {
            "tags": []
          },
          "execution_count": 30
        }
      ]
    },
    {
      "cell_type": "code",
      "metadata": {
        "id": "qyuSqWor9GQj"
      },
      "source": [
        "y_pred4 = regressor4.predict(X_test)\n",
        "np.set_printoptions(precision=2)\n",
        "print(np.concatenate((y_pred4.reshape(len(y_pred4),1), y_test.reshape(len(y_test),1)),1))"
      ],
      "execution_count": null,
      "outputs": []
    },
    {
      "cell_type": "code",
      "metadata": {
        "colab": {
          "base_uri": "https://localhost:8080/"
        },
        "id": "5XLbyY2c9Hyh",
        "outputId": "ea7df053-8f4a-4efa-946c-e44ecd430473"
      },
      "source": [
        "from sklearn.metrics import r2_score\n",
        "r2_score(y_test, y_pred4)"
      ],
      "execution_count": null,
      "outputs": [
        {
          "output_type": "execute_result",
          "data": {
            "text/plain": [
              "0.6522523898042345"
            ]
          },
          "metadata": {
            "tags": []
          },
          "execution_count": 32
        }
      ]
    },
    {
      "cell_type": "markdown",
      "metadata": {
        "id": "wO7nMaMoTwEF"
      },
      "source": [
        "#Training the SVR model on the Training set and predicting the test set results."
      ]
    },
    {
      "cell_type": "code",
      "metadata": {
        "id": "EpD7SOFf_8Kj"
      },
      "source": [
        "from sklearn.preprocessing import StandardScaler\n",
        "sc_X = StandardScaler()\n",
        "sc_y = StandardScaler()\n",
        "X_train = sc_X.fit_transform(X_train)\n",
        "y_train = sc_y.fit_transform(y_train)"
      ],
      "execution_count": null,
      "outputs": []
    },
    {
      "cell_type": "code",
      "metadata": {
        "colab": {
          "base_uri": "https://localhost:8080/"
        },
        "id": "GIbgVo04EkBH",
        "outputId": "c415ec12-9abd-47fe-b57f-7b8364d70b8e"
      },
      "source": [
        "from sklearn.svm import SVR\n",
        "regressor6 = SVR(kernel = 'rbf', gamma='auto', tol=0.001, C=2.4, \n",
        "                 epsilon=0.36, shrinking=True, verbose=False, max_iter=-1)\n",
        "regressor6.fit(X_train, y_train)"
      ],
      "execution_count": null,
      "outputs": [
        {
          "output_type": "stream",
          "text": [
            "/usr/local/lib/python3.7/dist-packages/sklearn/utils/validation.py:760: DataConversionWarning: A column-vector y was passed when a 1d array was expected. Please change the shape of y to (n_samples, ), for example using ravel().\n",
            "  y = column_or_1d(y, warn=True)\n"
          ],
          "name": "stderr"
        },
        {
          "output_type": "execute_result",
          "data": {
            "text/plain": [
              "SVR(C=2.4, cache_size=200, coef0=0.0, degree=3, epsilon=0.36, gamma='auto',\n",
              "    kernel='rbf', max_iter=-1, shrinking=True, tol=0.001, verbose=False)"
            ]
          },
          "metadata": {
            "tags": []
          },
          "execution_count": 34
        }
      ]
    },
    {
      "cell_type": "code",
      "metadata": {
        "id": "ZKmxi9HXUZAy"
      },
      "source": [
        "y_pred6 = sc_y.inverse_transform(regressor6.predict(sc_X.transform(X_test)))\n",
        "np.set_printoptions(precision=2)\n",
        "print(np.concatenate((y_pred6.reshape(len(y_pred6),1), y_test.reshape(len(y_test),1)),1))"
      ],
      "execution_count": null,
      "outputs": []
    },
    {
      "cell_type": "code",
      "metadata": {
        "colab": {
          "base_uri": "https://localhost:8080/"
        },
        "id": "SiZrzYPkM6mB",
        "outputId": "9cc35471-5507-4afd-91dd-e7b6490bd90e"
      },
      "source": [
        "from sklearn.metrics import r2_score\n",
        "r2_score(y_test, y_pred6)"
      ],
      "execution_count": null,
      "outputs": [
        {
          "output_type": "execute_result",
          "data": {
            "text/plain": [
              "0.6007548993033893"
            ]
          },
          "metadata": {
            "tags": []
          },
          "execution_count": 36
        }
      ]
    },
    {
      "cell_type": "markdown",
      "metadata": {
        "id": "Ic21H7ZgaMgp"
      },
      "source": [
        "#Clustering acoordin to Rating and Number of Votes"
      ]
    },
    {
      "cell_type": "markdown",
      "metadata": {
        "id": "FeLOnlDBhmae"
      },
      "source": [
        "#### Now we try to cluster the existing data into some clusters based on different features in order to find specific relations between the features and classify them."
      ]
    },
    {
      "cell_type": "code",
      "metadata": {
        "id": "CchPzvblyDog"
      },
      "source": [
        "X1 = dataset.iloc[:, [8, 9]].values"
      ],
      "execution_count": null,
      "outputs": []
    },
    {
      "cell_type": "code",
      "metadata": {
        "colab": {
          "base_uri": "https://localhost:8080/",
          "height": 295
        },
        "id": "sMWdeu_5dQQN",
        "outputId": "c5aa6f3e-184d-4e39-f80d-a4d611d056a6"
      },
      "source": [
        "from sklearn.cluster import KMeans\n",
        "wcss = []\n",
        "for i in range(1, 11):\n",
        "    kmeans = KMeans(n_clusters = i, init = 'k-means++', random_state = 42)\n",
        "    kmeans.fit(X1)\n",
        "    wcss.append(kmeans.inertia_)\n",
        "plt.plot(range(1, 11), wcss)\n",
        "plt.title('The Elbow Method')\n",
        "plt.xlabel('Number of clusters')\n",
        "plt.ylabel('WCSS')\n",
        "plt.show()"
      ],
      "execution_count": null,
      "outputs": [
        {
          "output_type": "display_data",
          "data": {
            "image/png": "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\n",
            "text/plain": [
              "<Figure size 432x288 with 1 Axes>"
            ]
          },
          "metadata": {
            "tags": [],
            "needs_background": "light"
          }
        }
      ]
    },
    {
      "cell_type": "code",
      "metadata": {
        "id": "ZhJpnUL9dQTC"
      },
      "source": [
        "kmeans = KMeans(n_clusters = 4, init = 'k-means++', random_state = 42)\n",
        "y_kmeans = kmeans.fit_predict(X1)"
      ],
      "execution_count": null,
      "outputs": []
    },
    {
      "cell_type": "code",
      "metadata": {
        "id": "RJ_TxjJYyDrT",
        "colab": {
          "base_uri": "https://localhost:8080/",
          "height": 295
        },
        "outputId": "56dbf14f-e395-4464-a738-3ebe1f8b8959"
      },
      "source": [
        "plt.scatter(X1[y_kmeans == 0, 0], X1[y_kmeans == 0, 1], s = 100, c = 'red', label = 'Cluster 1')\n",
        "plt.scatter(X1[y_kmeans == 1, 0], X1[y_kmeans == 1, 1], s = 100, c = 'blue', label = 'Cluster 2')\n",
        "plt.scatter(X1[y_kmeans == 2, 0], X1[y_kmeans == 2, 1], s = 100, c = 'green', label = 'Cluster 3')\n",
        "plt.scatter(X1[y_kmeans == 3, 0], X1[y_kmeans == 3, 1], s = 100, c = 'cyan', label = 'Cluster 4')\n",
        "# plt.scatter(X[y_kmeans == 4, 0], X[y_kmeans == 4, 1], s = 100, c = 'magenta', label = 'Cluster 5')\n",
        "plt.scatter(kmeans.cluster_centers_[:, 0], kmeans.cluster_centers_[:, 1], s = 300, c = 'yellow', label = 'Centroids')\n",
        "plt.title('Clusters of Movies')\n",
        "plt.xlabel('Rating')\n",
        "plt.ylabel('Votes')\n",
        "plt.legend()\n",
        "plt.show()"
      ],
      "execution_count": null,
      "outputs": [
        {
          "output_type": "display_data",
          "data": {
            "image/png": "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\n",
            "text/plain": [
              "<Figure size 432x288 with 1 Axes>"
            ]
          },
          "metadata": {
            "tags": [],
            "needs_background": "light"
          }
        }
      ]
    },
    {
      "cell_type": "markdown",
      "metadata": {
        "id": "zSLjFWaxh1gs"
      },
      "source": [
        "#####We can observe from this part that every movie with low number of votes has lower average rating while most of the high-ranked movies (>7) earned lots of votes. It implies that movies with low veiws (<250000) have a little chance to get high ranks and therefore maybe high revenue. However, we can see in the next part that high ranking score has not so much effect on the revenue."
      ]
    },
    {
      "cell_type": "markdown",
      "metadata": {
        "id": "AYo_pArqaUxj"
      },
      "source": [
        "#Clustering acoording to Rating and Revenue"
      ]
    },
    {
      "cell_type": "code",
      "metadata": {
        "id": "of__E5DPf4yO"
      },
      "source": [
        "X2 = dataset.iloc[:, [8, 10]].values"
      ],
      "execution_count": null,
      "outputs": []
    },
    {
      "cell_type": "code",
      "metadata": {
        "id": "bxe6BCGOgzCY"
      },
      "source": [
        "from sklearn.impute import SimpleImputer\n",
        "imputer = SimpleImputer(missing_values=np.NaN, strategy='mean')\n",
        "imputer.fit(X2)\n",
        "X2 = imputer.transform(X2)"
      ],
      "execution_count": null,
      "outputs": []
    },
    {
      "cell_type": "code",
      "metadata": {
        "colab": {
          "base_uri": "https://localhost:8080/",
          "height": 295
        },
        "id": "8y3KPeJff41q",
        "outputId": "66fdbdd9-b8de-405d-fa1d-1c7ec4b7d08f"
      },
      "source": [
        "from sklearn.cluster import KMeans\n",
        "wcss1 = []\n",
        "for i in range(1, 11):\n",
        "    kmeans = KMeans(n_clusters = i, init = 'k-means++', random_state = 42)\n",
        "    kmeans.fit(X2)\n",
        "    wcss1.append(kmeans.inertia_)\n",
        "plt.plot(range(1, 11), wcss1)\n",
        "plt.title('The Elbow Method')\n",
        "plt.xlabel('Number of clusters')\n",
        "plt.ylabel('WCSS')\n",
        "plt.show()"
      ],
      "execution_count": null,
      "outputs": [
        {
          "output_type": "display_data",
          "data": {
            "image/png": "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\n",
            "text/plain": [
              "<Figure size 432x288 with 1 Axes>"
            ]
          },
          "metadata": {
            "tags": [],
            "needs_background": "light"
          }
        }
      ]
    },
    {
      "cell_type": "code",
      "metadata": {
        "id": "-k8kk_GkgApb"
      },
      "source": [
        "kmeans1 = KMeans(n_clusters = 4, init = 'k-means++', random_state = 42)\n",
        "y_kmeans1 = kmeans1.fit_predict(X2)"
      ],
      "execution_count": null,
      "outputs": []
    },
    {
      "cell_type": "code",
      "metadata": {
        "colab": {
          "base_uri": "https://localhost:8080/",
          "height": 295
        },
        "id": "FYsY4RDZgAwR",
        "outputId": "386a53d2-a056-428e-d9ca-e9c5d073db8b"
      },
      "source": [
        "plt.scatter(X2[y_kmeans1 == 0, 0], X2[y_kmeans1 == 0, 1], s = 100, c = 'red', label = 'Cluster 1')\n",
        "plt.scatter(X2[y_kmeans1 == 1, 0], X2[y_kmeans1 == 1, 1], s = 100, c = 'blue', label = 'Cluster 2')\n",
        "plt.scatter(X2[y_kmeans1 == 2, 0], X2[y_kmeans1 == 2, 1], s = 100, c = 'green', label = 'Cluster 3')\n",
        "plt.scatter(X2[y_kmeans1 == 3, 0], X2[y_kmeans1 == 3, 1], s = 100, c = 'cyan', label = 'Cluster 4')\n",
        "# plt.scatter(X2[y_kmeans == 4, 0], X2[y_kmeans == 4, 1], s = 100, c = 'magenta', label = 'Cluster 5')\n",
        "# plt.scatter(kmeans.cluster_centers_[:, 0], kmeans.cluster_centers_[:, 1], s = 300, c = 'yellow', label = 'Centroids')\n",
        "plt.title('Clusters of customers')\n",
        "plt.xlabel('Rating')\n",
        "plt.ylabel('Revenue')\n",
        "plt.legend()\n",
        "plt.show()"
      ],
      "execution_count": null,
      "outputs": [
        {
          "output_type": "display_data",
          "data": {
            "image/png": "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\n",
            "text/plain": [
              "<Figure size 432x288 with 1 Axes>"
            ]
          },
          "metadata": {
            "tags": [],
            "needs_background": "light"
          }
        }
      ]
    },
    {
      "cell_type": "markdown",
      "metadata": {
        "id": "q6gdRrJejV9M"
      },
      "source": [
        "#####This plot implies that high ranking has not significant effect on the final revenue of a movie as we can observe near half of the high-ranked movies have high revenue (>200) and the other half are below 200."
      ]
    },
    {
      "cell_type": "markdown",
      "metadata": {
        "id": "V1HunvPVad2R"
      },
      "source": [
        "#Clustering acoording to metascore and Revenue"
      ]
    },
    {
      "cell_type": "code",
      "metadata": {
        "id": "02u_DEN2kVj2"
      },
      "source": [
        "X3 = dataset.iloc[:, [11,10]].values"
      ],
      "execution_count": null,
      "outputs": []
    },
    {
      "cell_type": "code",
      "metadata": {
        "id": "vTCPA1THln1R"
      },
      "source": [
        "from sklearn.impute import SimpleImputer\n",
        "imputer = SimpleImputer(missing_values=np.NaN, strategy='mean')\n",
        "imputer.fit(X3)\n",
        "X3 = imputer.transform(X3)"
      ],
      "execution_count": null,
      "outputs": []
    },
    {
      "cell_type": "code",
      "metadata": {
        "colab": {
          "base_uri": "https://localhost:8080/",
          "height": 295
        },
        "id": "-vqnrALvlrWt",
        "outputId": "50ae2b3c-b392-40ea-dacc-90111ca00763"
      },
      "source": [
        "from sklearn.cluster import KMeans\n",
        "wcss2 = []\n",
        "for i in range(1, 11):\n",
        "    kmeans = KMeans(n_clusters = i, init = 'k-means++', random_state = 42)\n",
        "    kmeans.fit(X3)\n",
        "    wcss2.append(kmeans.inertia_)\n",
        "plt.plot(range(1, 11), wcss2)\n",
        "plt.title('The Elbow Method')\n",
        "plt.xlabel('Number of clusters')\n",
        "plt.ylabel('WCSS')\n",
        "plt.show()"
      ],
      "execution_count": null,
      "outputs": [
        {
          "output_type": "display_data",
          "data": {
            "image/png": "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\n",
            "text/plain": [
              "<Figure size 432x288 with 1 Axes>"
            ]
          },
          "metadata": {
            "tags": [],
            "needs_background": "light"
          }
        }
      ]
    },
    {
      "cell_type": "code",
      "metadata": {
        "id": "d8ZXDSu6mTID"
      },
      "source": [
        "kmeans2 = KMeans(n_clusters = 2, init = 'k-means++', random_state = 42)\n",
        "y_kmeans2 = kmeans2.fit_predict(X3)"
      ],
      "execution_count": null,
      "outputs": []
    },
    {
      "cell_type": "code",
      "metadata": {
        "colab": {
          "base_uri": "https://localhost:8080/",
          "height": 295
        },
        "id": "ylerE2sklv1m",
        "outputId": "41878071-4d3a-40f5-80e8-a6762494d15c"
      },
      "source": [
        "plt.scatter(X3[y_kmeans2 == 0, 0], X3[y_kmeans2 == 0, 1], s = 100, c = 'red', label = 'Cluster 1')\n",
        "plt.scatter(X3[y_kmeans2 == 1, 0], X3[y_kmeans2 == 1, 1], s = 100, c = 'blue', label = 'Cluster 2')\n",
        "# plt.scatter(X2[y_kmeans == 2, 0], X2[y_kmeans == 2, 1], s = 100, c = 'green', label = 'Cluster 3')\n",
        "# plt.scatter(X2[y_kmeans == 3, 0], X2[y_kmeans == 3, 1], s = 100, c = 'cyan', label = 'Cluster 4')\n",
        "# plt.scatter(X2[y_kmeans == 4, 0], X2[y_kmeans == 4, 1], s = 100, c = 'magenta', label = 'Cluster 5')\n",
        "# plt.scatter(kmeans.cluster_centers_[:, 0], kmeans.cluster_centers_[:, 1], s = 300, c = 'yellow', label = 'Centroids')\n",
        "\n",
        "Xx=[40,40,40,40,40]\n",
        "Yy=[0,200,500,700,1000]\n",
        "\n",
        "Xx1=[20,40,60,80,100]\n",
        "Yy1=[200,200,200,200,200]\n",
        "\n",
        "plt.plot(Xx, Yy,color = 'yellow')\n",
        "plt.plot(Xx1, Yy1,color = 'gray')\n",
        "plt.title('Clusters of customers')\n",
        "plt.xlabel('meta score')\n",
        "plt.ylabel('Revenue')\n",
        "plt.legend()\n",
        "plt.show()"
      ],
      "execution_count": null,
      "outputs": [
        {
          "output_type": "display_data",
          "data": {
            "image/png": "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\n",
            "text/plain": [
              "<Figure size 432x288 with 1 Axes>"
            ]
          },
          "metadata": {
            "tags": [],
            "needs_background": "light"
          }
        }
      ]
    },
    {
      "cell_type": "markdown",
      "metadata": {
        "id": "V79bQBDsnazO"
      },
      "source": [
        "#####We can conclude from this plot that movies with metascore less than 40 has almost no chance to reach high revenues. However, there are 2 or 3 samples with low metascore and high revenue which can have another reason for that like advertising costs which is not regarded in this dataset. Moreover, high metascore does not garuntee the producers high revenue but is an important factor to reach that."
      ]
    },
    {
      "cell_type": "markdown",
      "metadata": {
        "id": "cw6R0LPRhRTg"
      },
      "source": [
        "#Clustering acoording to Runtime and Revenue"
      ]
    },
    {
      "cell_type": "code",
      "metadata": {
        "id": "HeTHS_YueBp2"
      },
      "source": [
        "X4 = dataset.iloc[:, [7,10]].values"
      ],
      "execution_count": null,
      "outputs": []
    },
    {
      "cell_type": "code",
      "metadata": {
        "id": "NRKgrHITbxl8"
      },
      "source": [
        "from sklearn.impute import SimpleImputer\n",
        "imputer = SimpleImputer(missing_values=np.NaN, strategy='mean')\n",
        "imputer.fit(X4)\n",
        "X4 = imputer.transform(X4)"
      ],
      "execution_count": null,
      "outputs": []
    },
    {
      "cell_type": "code",
      "metadata": {
        "colab": {
          "base_uri": "https://localhost:8080/",
          "height": 295
        },
        "id": "fDlSsaokeEUy",
        "outputId": "b8a5646b-cae8-4bf3-a36e-5b2c68f715ec"
      },
      "source": [
        "from sklearn.cluster import KMeans\n",
        "wcss3 = []\n",
        "for i in range(1, 11):\n",
        "    kmeans = KMeans(n_clusters = i, init = 'k-means++', random_state = 42)\n",
        "    kmeans.fit(X3)\n",
        "    wcss3.append(kmeans.inertia_)\n",
        "plt.plot(range(1, 11), wcss3)\n",
        "plt.title('The Elbow Method')\n",
        "plt.xlabel('Number of clusters')\n",
        "plt.ylabel('WCSS')\n",
        "plt.show()"
      ],
      "execution_count": null,
      "outputs": [
        {
          "output_type": "display_data",
          "data": {
            "image/png": "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\n",
            "text/plain": [
              "<Figure size 432x288 with 1 Axes>"
            ]
          },
          "metadata": {
            "tags": [],
            "needs_background": "light"
          }
        }
      ]
    },
    {
      "cell_type": "code",
      "metadata": {
        "id": "5iopzGJ6eEd6"
      },
      "source": [
        "kmeans3 = KMeans(n_clusters = 4, init = 'k-means++', random_state = 42)\n",
        "y_kmeans3 = kmeans3.fit_predict(X3)"
      ],
      "execution_count": null,
      "outputs": []
    },
    {
      "cell_type": "code",
      "metadata": {
        "colab": {
          "base_uri": "https://localhost:8080/",
          "height": 295
        },
        "id": "V9tHET2UeJ6X",
        "outputId": "1de255ae-c5a5-45e4-9260-069dfe2dafde"
      },
      "source": [
        "plt.scatter(X4[y_kmeans3 == 0, 0], X4[y_kmeans3 == 0, 1], s = 100, c = 'red', label = 'Cluster 1')\n",
        "plt.scatter(X4[y_kmeans3 == 1, 0], X4[y_kmeans3 == 1, 1], s = 100, c = 'blue', label = 'Cluster 2')\n",
        "plt.scatter(X4[y_kmeans3 == 2, 0], X4[y_kmeans3 == 2, 1], s = 100, c = 'green', label = 'Cluster 3')\n",
        "plt.scatter(X4[y_kmeans3 == 3, 0], X4[y_kmeans3 == 3, 1], s = 100, c = 'cyan', label = 'Cluster 4')\n",
        "# plt.scatter(X2[y_kmeans == 4, 0], X2[y_kmeans == 4, 1], s = 100, c = 'magenta', label = 'Cluster 5')\n",
        "# plt.scatter(kmeans.cluster_centers_[:, 0], kmeans.cluster_centers_[:, 1], s = 300, c = 'yellow', label = 'Centroids')\n",
        "\n",
        "\n",
        "plt.title('Clusters of customers')\n",
        "plt.xlabel('Runtime')\n",
        "plt.ylabel('Revenue')\n",
        "plt.legend()\n",
        "plt.show()"
      ],
      "execution_count": null,
      "outputs": [
        {
          "output_type": "display_data",
          "data": {
            "image/png": "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\n",
            "text/plain": [
              "<Figure size 432x288 with 1 Axes>"
            ]
          },
          "metadata": {
            "tags": [],
            "needs_background": "light"
          }
        }
      ]
    },
    {
      "cell_type": "markdown",
      "metadata": {
        "id": "PGHiNGtsl_O1"
      },
      "source": [
        "#####As we can observe, Runtime has no impact on the final revenue of a movie and it can be a good insight for the filmmakers that except some special samples(outliars) for the rest of the dataset we have high, average and low revenues for different runtimes from 90 to 160. Therefore, they have more flexibility for their job and has almost no duration limit."
      ]
    },
    {
      "cell_type": "markdown",
      "metadata": {
        "id": "PUu7m7WkAwyo"
      },
      "source": [
        "#Some regression and classification class\n",
        "\n",
        "* Splitting the dataset\n",
        "\n",
        "######train_test_split is being used from sklearn.model_selection and it splits data into two groups of test and train by the measure that we set.\n",
        "\n",
        "* Mathematical expression of the models\n",
        "1. LinearRegression\n",
        "\n",
        " Linear regression is a linear approach for modelling the relationship between one or more variables. Here is the formula \n",
        " $Y= x1\\times\\beta1 + x2\\times \\beta2+ ...$\n",
        "where X is the input (here is the X_train) and $\\beta$ is the coefficient that the learning algorithm produces.\n",
        "\n",
        "2. Support vector machines (SVMs)\n",
        "\n",
        "SVR is imported from sklearn and here is used for regression. The SVR tries to fit the best line within a threshold value. $|Y-W_{i}\\times x_{i}|< \\epsilon$ and now it will minimize the W by MIN($|W|^2/2)$\n",
        "\n",
        "\n",
        "3. Decision Tree\n",
        "\n",
        "Decision Trees (DTs) are a non-parametric supervised learning method. The goal is to create a model that predicts the value of a target variable by learning simple decision rules inferred from the data features.\n",
        "\n",
        "Given the input X and output Y, $Q_{m}$ is the data represented at node m with $N_{m}$ samples. For each candidate split $\\theta$ and partitiong the data into $Q_{m}^{left}$ and $Q_{m}^{right}$.\n",
        "H is loss function. \n",
        "\n",
        "$Q_{m}^{left}(\\theta) = \\{(x,y)|x_{j}\\leq t_{m}\\}$\n",
        "\n",
        "$Q_{m}^{right}(\\theta) = Q_{m} \\backslash Q_{m}^{left}  $\n",
        "\n",
        "$G(Q_{m},\\theta) = \\frac{N_{m}^{left}}{N_{m}} H(Q_{m}^{left}) + \\frac{N_{m}^{right}}{N_{m}} H(Q_{m}^{right})$\n",
        "\n",
        "select the parameters that minimeses the impurity\n",
        "\n",
        "$\\theta_{*} = argmin_{\\theta}\\ G(Q_{m},\\theta) $\n",
        "\n",
        "Recurse for subsets until the maximum depth is reach. ($N_{m}$ < min(samples) or $N_{m}$=1)\n",
        "\n",
        "4. Random Forest Regression\n",
        "\n",
        "It uses ensemble learning method for regression. Ensemble learning method is a technique that combines predictions from multiple machine learning algorithms to make a more accurate prediction than a single model\n",
        ". Random-forest does both row sampling and column sampling with Decision tree as a base.\n",
        "\n",
        "\n",
        "DT= Desicion Tree (DecisionTreeRegressor)\n",
        "\n",
        "Bagging=DT + Row sampling\n",
        "\n",
        "Random forest= DT(base learner)+ bagging(Row sampling with replacement)+ feature bagging(column sampling) + aggregation(mean/median, majority vote)\n",
        "\n",
        "5. Kmeans Clustering\n",
        "\n",
        "The procedure is as follows,\n",
        "First, k points as the initial centroids from the dataset should be selected randomly, e.g. the first k points. Then, the Euclidean distance of each point of the dataset with these k points are computed to find the closest centroid to each data point. By taking the average of the points in each cluster group a new centroid can be found. This algorithm must be repeated till the centroids don’t change.\n",
        "\n",
        "$d( p, q) = \\sqrt{(q_{1} - p_{1})^{2} + (q_{2} - p_{2})^{2}}$\n",
        "\n",
        "arg $min_{c_{i}\\in C} \\{dist(c_{i},x)^{2}\\}$\n",
        "\n",
        "dist= Euclidean Distance\n",
        "\n",
        "* The advantages of these models\n",
        "\n",
        "1. Linear Regression: Linear regression has a considerably lower time complexity when compared to some of the other machine learning algorithms.The mathematical equations of Linear regression are also fairly easy to understand and interpret.\n",
        "\n",
        "2. SVR: One of the main advantages of SVR is that its computational complexity does not depend on the dimensionality of the input space. Additionally, it has excellent generalization capability, with high prediction accuracy.\n",
        "\n",
        "3. Decision Tree: A significant advantage of a decision tree is that it forces the consideration of all possible outcomes of a decision and traces each path to a conclusion. It creates a comprehensive analysis of the consequences along each branch and identifies decision nodes that need further analysis.\n",
        "\n",
        "4. Random Forest: It reduces overfitting in decision trees and helps to improve the accuracy.\n",
        "\n",
        "\n",
        "5. Kmeans : Relatively simple to implement.\n",
        "Scales to large data sets.\n",
        "Guarantees convergence.\n",
        "Can warm-start the positions of centroids.\n",
        "Easily adapts to new examples.\n",
        "Generalizes to clusters of different shapes and sizes, such as elliptical clusters.\n",
        "Choosing manually.\n",
        "\n",
        "* Hyperparameters : In XGBoost, we set learing rate to 0.25 and n_estimators to 25 to get the proper result. In Random Forest, we set n_estimators to 22 and min_smaple_split to 12 so that we have at least 12 samples in each leaf with this 22 estimators and we got the best result.\n",
        "In SVR model, we set several parameters to tune but the most important ones are kernel and Regularization parameter(C). these have the most effect on the model R2_score. besides, we tuned tol, gamma, verbose, epsilon and shrinking parameters to get better result.\n",
        "\n",
        "* The performance \n",
        "For regression there are different scores as there are different methods. By using score function based on Ytrain and Ypredict, the goodness of the method is being measured. For Linear regression, the score is 0.579. For SVR, the score is about 0.60. For Randomforest, the score is about 0.652. \n",
        "\n",
        "Between all of the different algorithms, Random Forest has the best performance for prediction.\n",
        "\n"
      ]
    },
    {
      "cell_type": "markdown",
      "metadata": {
        "id": "xG70XKxPo3fd"
      },
      
    },
    {
      "cell_type": "markdown",
      "metadata": {
        "id": "ywZHRLXUSRwx"
      },
      "source": [
        "#Reference\n",
        "\n",
        "######IMDB data from 2006 to 2016, [https://www.kaggle.com/PromptCloudHQ/imdb-data/activity]. \n",
        "\n",
        "[https://en.wikipedia.org/wiki/Linear_regression].\n",
        "\n",
        "[https://towardsdatascience.com/an-introduction-to-support-vector-regression-svr-a3ebc1672c2].\n",
        "\n",
        "[https://medium.com/analytics-vidhya/mathematics-behind-random-forest-and-xgboost-ea8596657275].\n",
        "\n",
        "\n",
        "[https://scikit-learn.org/stable/modules/tree.html#mathematical-formulation]\n",
        "\n"
      ]
    },
    {
      "cell_type": "code",
      "metadata": {
        "id": "-kY6A5Y18tko"
      },
      "source": [
        ""
      ],
      "execution_count": null,
      "outputs": []
    }
  ]
}
